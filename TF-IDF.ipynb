{
 "cells": [
  {
   "cell_type": "code",
   "execution_count": null,
   "metadata": {
    "id": "4hXO7SywTPWi"
   },
   "outputs": [],
   "source": [
    "__author__      = \"Federico Ranaldi\"\n"
   ]
  },
  {
   "cell_type": "code",
   "execution_count": null,
   "metadata": {},
   "outputs": [],
   "source": [
    "import numpy as np\n",
    "import pandas as pd\n",
    "import string\n",
    "import nltk\n",
    "import re\n",
    "from nltk.tokenize import word_tokenize\n",
    "from nltk import pos_tag\n",
    "from nltk.corpus import stopwords\n",
    "from nltk.stem import WordNetLemmatizer\n",
    "from sklearn.model_selection import train_test_split\n",
    "from sklearn.feature_extraction.text import TfidfVectorizer"
   ]
  },
  {
   "cell_type": "code",
   "execution_count": null,
   "metadata": {
    "id": "zWQT2No3Tr23"
   },
   "outputs": [],
   "source": [
    "df = pd.read_csv('data.csv')"
   ]
  },
  {
   "cell_type": "code",
   "execution_count": null,
   "metadata": {
    "colab": {
     "base_uri": "https://localhost:8080/",
     "height": 206
    },
    "id": "VwrmupBZTi8x",
    "outputId": "e6a6fa9f-970e-4cc6-c8e0-ee8ebc4cf962"
   },
   "outputs": [],
   "source": [
    "df.head()"
   ]
  },
  {
   "cell_type": "code",
   "execution_count": null,
   "metadata": {
    "colab": {
     "base_uri": "https://localhost:8080/"
    },
    "id": "xHHxzH7BUbGO",
    "outputId": "063fe193-5467-481a-c7f1-c13bedd04e5c"
   },
   "outputs": [],
   "source": [
    "nltk.download('punkt')\n",
    "\n",
    "df['tokenized_sents'] = df.apply(lambda row: nltk.word_tokenize(row[\"text\"]), axis=1)"
   ]
  },
  {
   "cell_type": "code",
   "execution_count": null,
   "metadata": {
    "colab": {
     "base_uri": "https://localhost:8080/"
    },
    "id": "Dx1PeQWnWVMf",
    "outputId": "a8378775-19b2-4a32-8553-88bec8626b3f"
   },
   "outputs": [],
   "source": [
    "nltk.download('stopwords')\n",
    "\n",
    "stop_list = stopwords.words('english')+list(string.punctuation)+[\" \"] #noise removal:insieme alle stopwords si elimina la punteggiatura\n",
    "\n",
    "print(stop_list)"
   ]
  },
  {
   "cell_type": "code",
   "execution_count": null,
   "metadata": {
    "id": "CaJ_TdqjWZvW"
   },
   "outputs": [],
   "source": [
    "df['tokenized_sents'] = df['tokenized_sents'].apply(lambda x: ' '.join([token for token in x if token not in (stop_list)]))"
   ]
  },
  {
   "cell_type": "code",
   "execution_count": null,
   "metadata": {
    "id": "z2kDLOlRWeP6"
   },
   "outputs": [],
   "source": [
    "df['tokenized_sents'] = df['tokenized_sents'].apply(lambda x: x.lower())"
   ]
  },
  {
   "cell_type": "code",
   "execution_count": null,
   "metadata": {
    "colab": {
     "base_uri": "https://localhost:8080/",
     "height": 206
    },
    "id": "UX5mBN0GWkY2",
    "outputId": "6214c9be-002f-4783-b600-28c98958742d"
   },
   "outputs": [],
   "source": [
    "df.head()"
   ]
  },
  {
   "cell_type": "markdown",
   "metadata": {
    "id": "qr0zQ07QYgFb"
   },
   "source": [
    "# **VETTORIZZAZIONE CON TF-IDF**\n",
    "\n",
    "Il TF-IDF è un algoritmo di vettorizzazione che converte in un formato numerico il nostro corpus facendo emergere termini specifici, pesando diversamente i termini molto rari o molto comuni in modo da assegnare loro un punteggio basso.\n",
    "TF sta per term frequency, mentre IDF sta per inverse document frequency. \n",
    "Il valore TF-IDF legato ad una parola(o token) aumenta proporzionalmente al numero di volte che questa appare nel documento ed è compensato dal numero di documenti nel corpus che la contengono.Se una parola è contenuta in molti documenti allora è probabile che quella non sia una parola altamente specifica per il documento.\n",
    "Nell'algorimo TF-IDF così come in BOW non viene codificato l'ordine dei token all'interno di un testo e ciò causa un ulteriore perdita di informazione oltre a quella generata dal preprocessing.\n",
    "Mentre BOW si limita a codificare le parole contenute in un testo preprocessato TFIDF codifica l'informazione che descrive l'importanza di una parola all'interno di un testo che fa parte di un insieme di documenti su cui il modello verrà addestrato."
   ]
  },
  {
   "cell_type": "code",
   "execution_count": null,
   "metadata": {
    "id": "TgXjoME3WkWF"
   },
   "outputs": [],
   "source": [
    "# inizializziamo il vettorizzatore\n",
    "vectorizer = TfidfVectorizer(sublinear_tf=True, min_df=5, max_df=0.95)\n",
    "# fit_transform applica il TF-IDF ai testi puliti - salviamo la matrice di vettori in X\n",
    "data_vectorized = vectorizer.fit_transform(df['tokenized_sents'])"
   ]
  },
  {
   "cell_type": "code",
   "execution_count": null,
   "metadata": {
    "colab": {
     "base_uri": "https://localhost:8080/"
    },
    "id": "KIuiAQV6dqSq",
    "outputId": "92eab2d1-41e5-4986-c592-fd89d4f607cd"
   },
   "outputs": [],
   "source": [
    "len(vectorizer.get_feature_names_out())"
   ]
  },
  {
   "cell_type": "code",
   "execution_count": null,
   "metadata": {
    "colab": {
     "base_uri": "https://localhost:8080/"
    },
    "id": "fIBcnaMBg7oG",
    "outputId": "98e1d478-f59c-42d3-95db-ca4e65568fe6"
   },
   "outputs": [],
   "source": [
    "vectorizer.vocabulary_"
   ]
  },
  {
   "cell_type": "code",
   "execution_count": null,
   "metadata": {
    "id": "p0sef1ApfU3v"
   },
   "outputs": [],
   "source": [
    "X=data_vectorized.toarray()"
   ]
  },
  {
   "cell_type": "code",
   "execution_count": null,
   "metadata": {
    "colab": {
     "base_uri": "https://localhost:8080/"
    },
    "id": "ch7djF9rdRFe",
    "outputId": "8800ec6b-608d-43ac-cafa-d79ecf7c643b"
   },
   "outputs": [],
   "source": [
    "Y=np.empty((len(df),1))\n",
    "Y"
   ]
  },
  {
   "cell_type": "code",
   "execution_count": null,
   "metadata": {
    "colab": {
     "base_uri": "https://localhost:8080/"
    },
    "id": "shNJjH7Uf4tH",
    "outputId": "ac016acd-e7ff-4131-9477-e7c806e3b512"
   },
   "outputs": [],
   "source": [
    "#trasformazione delle classi targhet da stringhe a numeri\n",
    "\n",
    "authors=df[\"author\"].unique() #lista/insieme degli autori\n",
    "\n",
    "targets=np.array(df[\"author\"])\n",
    "\n",
    "for i in range (len(df)):\n",
    "  Y[i]=np.where(authors == targets[i])[0][0]\n",
    "\n",
    "Y=Y.astype(\"int\")\n",
    "Y"
   ]
  },
  {
   "cell_type": "code",
   "execution_count": null,
   "metadata": {
    "colab": {
     "base_uri": "https://localhost:8080/"
    },
    "id": "pUGSJEBdgR9V",
    "outputId": "2668230a-21d9-4a27-a2bb-e1001ad72214"
   },
   "outputs": [],
   "source": [
    "print(X.shape)\n",
    "print(Y.shape)"
   ]
  },
  {
   "cell_type": "code",
   "execution_count": null,
   "metadata": {
    "id": "CRqUHVFFgYug"
   },
   "outputs": [],
   "source": [
    "from sklearn.model_selection import train_test_split\n",
    "\n",
    "X_train,X_test,Y_train,Y_test = train_test_split(X, Y, test_size=0.3)"
   ]
  },
  {
   "cell_type": "code",
   "execution_count": null,
   "metadata": {
    "colab": {
     "base_uri": "https://localhost:8080/"
    },
    "id": "B5Wml9FIgZ-E",
    "outputId": "d2a9394c-244e-4342-8353-6c6479dc4d06"
   },
   "outputs": [],
   "source": [
    "print(X_train.shape,X_test.shape)\n",
    "print(Y_train.shape,Y_test.shape)"
   ]
  },
  {
   "cell_type": "code",
   "execution_count": null,
   "metadata": {
    "colab": {
     "base_uri": "https://localhost:8080/"
    },
    "id": "xeg5n9nLgjQP",
    "outputId": "587b0b08-fa82-41dd-c847-7cb7458e822c"
   },
   "outputs": [],
   "source": [
    "print(\"Xtrain\",type(X_train))\n",
    "print(\"Ytrain\",type(Y_train))\n",
    "print(\"Xtest\",type(X_test))\n",
    "print(\"Ytest\",type(Y_test))\n",
    "print(\"Xtrain\",X_train.dtype)\n",
    "print(\"Ytrain\",Y_train.dtype)\n",
    "print(\"Xtest\",X_test.dtype)\n",
    "print(\"Ytest\",Y_test.dtype)"
   ]
  },
  {
   "cell_type": "code",
   "execution_count": null,
   "metadata": {
    "id": "n03zeMWjglPL"
   },
   "outputs": [],
   "source": [
    "import torch\n",
    "\n",
    "X_train = torch.from_numpy(X_train).float()\n",
    "Y_train = torch.from_numpy(Y_train).float()\n",
    "\n",
    "X_test = torch.from_numpy(X_test).float()\n",
    "Y_test = torch.from_numpy(Y_test).float()"
   ]
  },
  {
   "cell_type": "code",
   "execution_count": null,
   "metadata": {
    "colab": {
     "base_uri": "https://localhost:8080/"
    },
    "id": "44tpP1yVh-yu",
    "outputId": "527e54c7-5ec3-47db-9a0c-f2cad86ef101"
   },
   "outputs": [],
   "source": [
    "print(X_train.shape)\n",
    "print(Y_train.shape)\n",
    "print(X_test.shape)\n",
    "print(Y_test.shape)"
   ]
  },
  {
   "cell_type": "markdown",
   "metadata": {
    "id": "pMLYF7qliGEA"
   },
   "source": [
    "# Creazione della rete neurale"
   ]
  },
  {
   "cell_type": "code",
   "execution_count": null,
   "metadata": {
    "id": "d3NIGTReiMfU"
   },
   "outputs": [],
   "source": [
    "#il numero di neuroni viene fatto corrispondere al numero di colonne di un vettore rappresentante un dato\n",
    "#cioè in base al numero di termini che hanno una tfidf maggiore di 0\n",
    "\n",
    "len(X_train[0])\n",
    "\n",
    "input_layer_neurons=len(X_train[0])"
   ]
  },
  {
   "cell_type": "code",
   "execution_count": null,
   "metadata": {
    "id": "qPM8Et_IiDHH"
   },
   "outputs": [],
   "source": [
    "import torch.nn as nn\n",
    "import torch.nn.functional as fn\n",
    "\n",
    "#creazione della classe Net\n",
    "#Net è una sottoclasse di nn.Module quindi eredita tutti i suoi metodi e attributi\n",
    "class Net(nn.Module):\n",
    "  def __init__(self): #costruttore della classe\n",
    "    super().__init__()  #viene richiamato il costruttore della classe nn.Module\n",
    "\n",
    "    #definizione dei layers(quindi degli strati della rete che avranno un numero di ingressi e un numero di uscite determinati)\n",
    "    #nn.linear applica una trasformazione lineare ai dati\n",
    "    self.fc1=nn.Linear(input_layer_neurons,124)  #Input Layer : ha 28*28 ingressi(quindi 784 neuroni) e 64 uscite possibili(cioé gli ingressi del layer successivo saranno 64)\n",
    "    self.fc2=nn.Linear(124,64)     #Hidden Layer 1: ha 64 ingressi e 64 uscite\n",
    "    #self.fc3=nn.Linear(64,64)     #Hidden Layer 2: ha 64 ingressi e 64 uscite\n",
    "    self.fc4=nn.Linear(64,3)     #Output Layer : ha 64 ingressi e 10 uscite perché le classi possibili sono 10\n",
    "  \n",
    "  #definizione della logica secondo cui i dati attraversano i vari layer\n",
    "  #ad ogni dato quando attraversa ogni neurone viene applicata la funzione relu\n",
    "  def forward(self,x):\n",
    "    x=fn.relu(self.fc1(x))\n",
    "    x=fn.relu(self.fc2(x))\n",
    "    #x=fn.relu(self.fc3(x))\n",
    "    x=self.fc4(x)\n",
    "\n",
    "    #return x\n",
    "    return fn.log_softmax(x,dim=1)  #ritorna la distribuzione probabilistica dell'output della rete"
   ]
  },
  {
   "cell_type": "code",
   "execution_count": null,
   "metadata": {
    "id": "ikFqtdBhiDET"
   },
   "outputs": [],
   "source": [
    "net=Net() #istanziazione della rete neurale"
   ]
  },
  {
   "cell_type": "markdown",
   "metadata": {
    "id": "--ttXXLTjJcE"
   },
   "source": [
    "# Caricamento dei dati(comprende la suddivisione in batch)"
   ]
  },
  {
   "cell_type": "code",
   "execution_count": null,
   "metadata": {
    "id": "FwJjwepqjB8o"
   },
   "outputs": [],
   "source": [
    "from torch.utils.data import TensorDataset, DataLoader, RandomSampler, SequentialSampler\n",
    "\n",
    "batch_size = 10\n",
    "\n",
    "train_data = TensorDataset(X_train,Y_train)\n",
    "train_sampler = RandomSampler(train_data)\n",
    "train_dataloader = DataLoader(train_data, sampler=train_sampler, batch_size=batch_size)\n",
    "\n",
    "test_data = TensorDataset(X_test,Y_test)\n",
    "test_sampler = SequentialSampler(test_data)\n",
    "test_dataloader = DataLoader(test_data, sampler=test_sampler, batch_size=batch_size)"
   ]
  },
  {
   "cell_type": "markdown",
   "metadata": {
    "id": "lwV-8BXpjSyp"
   },
   "source": [
    "# Addestramento del modello(FASE DI TRAINING)"
   ]
  },
  {
   "cell_type": "code",
   "execution_count": null,
   "metadata": {
    "id": "BJizhGQ5jBrA"
   },
   "outputs": [],
   "source": [
    "import torch\n",
    "\n",
    "if torch.cuda.is_available():\n",
    "  device = torch.device(\"cuda\")\n",
    "  print(\"gpu available\")\n",
    "else:\n",
    "  device = torch.device(\"cpu\")"
   ]
  },
  {
   "cell_type": "code",
   "execution_count": null,
   "metadata": {
    "colab": {
     "base_uri": "https://localhost:8080/"
    },
    "id": "TPetWibfjP79",
    "outputId": "b3d843d2-d6e6-4fb1-ee62-0ca340a8994b"
   },
   "outputs": [],
   "source": [
    "import torch.optim as optim\n",
    "\n",
    "#implementazione della loss-function o funzione di costo\n",
    "#la loss-function calcola quanto gli output della rete neurale si discostano dai valori reali\n",
    "#il risultato di una loss-function può essere uno scalare(entropia incrociata...) oppure un vettore(one-hot array)\n",
    "\n",
    "loss_function=nn.CrossEntropyLoss();\n",
    "\n",
    "#implementazione dell'ottimizzatore \n",
    "#l'ottimizzatore si occupa di modificare i pesi dei collegamenti della rete in modo che questa restituisca un output che si avvicini il più possibile al valore corretto\n",
    "#net.parameters() restituisce un tensore che rappresenta i parametri della rete ossia tutti i pesi della rete\n",
    "#il learning rate (lr) è un valore che dice di quanto devono essere aggiustati i pesi a ogni iterazione\n",
    "#Adam è un ottimizzatore che implementa la discesa stocastica del gradiente (Stochastic Gradient Descent)\n",
    "\n",
    "optimizer=optim.Adam(net.parameters(),lr=0.001)\n",
    "\n",
    "#l'epoch è rappresenta l'intera fase in cui al modello sono stati passati tutti i dati del trainset suddivisi in batches\n",
    "#se si effettuano poche epoche il modello non si addestra bene o meglio non aggiusta i propri pesi nel modo migliore\n",
    "#se si effettuano troppe epoche il modello rischia l'overfitting (si adegua troppo al training set e perde la capacità di generalizzare)\n",
    "\n",
    "for epoch in range(3):\n",
    "  for data in train_data:\n",
    "    X, y = data #suddividiamo l'esempio in features (X) e classe di appartenenza (y)\n",
    "    #print(X)\n",
    "    #print(y)\n",
    "    net.zero_grad() #setta il gradiente a 0\n",
    "    output=net(X.view(-1,input_layer_neurons))  #ad ogni passo alla rete viene fornito come input l'ouput dell'iterazione precedente\n",
    "    #print(output)\n",
    "    loss=fn.nll_loss(output,y.long())  #calcola la loss-function sull'output della rete al passo corrente rispetto al target reale\n",
    "    loss.backward() #l'errore commesso viene propagato verso ogni collegamento dallo strato di output agli strati più interni(back-propagation)\n",
    "    optimizer.step()  #basandosi sui valori riportati dal gradiente effettua l'aggiustamento dei parametri della rete in maniera opportuna  \n",
    "  print(loss) #stampa la loss function dopo ogni epoca"
   ]
  },
  {
   "cell_type": "code",
   "execution_count": null,
   "metadata": {
    "colab": {
     "base_uri": "https://localhost:8080/"
    },
    "id": "ldC4DqKUjP5O",
    "outputId": "70b37a8f-9f2f-4965-e437-27d8b0e8f90c"
   },
   "outputs": [],
   "source": [
    "correct=0 #numero di esempi su cui la rete ha predetto in maniera corretta\n",
    "total=0 #numero di esempi su cui la rete ha effettuato una predizione\n",
    "\n",
    "with torch.no_grad(): #nella fase di test non dobbiamo aggiustare i pesi o calcolare la loss function percui non ci interessa il gradiente\n",
    "  for data in test_data:\n",
    "    X, y = data\n",
    "    output=net(X.view(-1,input_layer_neurons))\n",
    "    #print(y)\n",
    "    for idx, i in enumerate(output):\n",
    "      #print(torch.argmax(i),y[idx])\n",
    "      if(torch.argmax(i)==y[idx]):\n",
    "        correct+=1\n",
    "      total+=1\n",
    "\n",
    "print(\"ACCURACY: \",round(correct/total,3)*100,\"%\")"
   ]
  }
 ],
 "metadata": {
  "accelerator": "TPU",
  "colab": {
   "collapsed_sections": [],
   "name": "AUTHOR_REC_TFIDF",
   "provenance": []
  },
  "kernelspec": {
   "display_name": "Python 3 (ipykernel)",
   "language": "python",
   "name": "python3"
  },
  "language_info": {
   "codemirror_mode": {
    "name": "ipython",
    "version": 3
   },
   "file_extension": ".py",
   "mimetype": "text/x-python",
   "name": "python",
   "nbconvert_exporter": "python",
   "pygments_lexer": "ipython3",
   "version": "3.8.10"
  }
 },
 "nbformat": 4,
 "nbformat_minor": 4
}
