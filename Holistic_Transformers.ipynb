{
 "cells": [
  {
   "cell_type": "code",
   "execution_count": null,
   "metadata": {
    "id": "-ODhnmpf6m4R",
    "outputId": "fa25822e-a703-4ca3-a3c0-86d5078052ca"
   },
   "outputs": [],
   "source": [
    "import transformers\n",
    "from keras.preprocessing.sequence import pad_sequences\n",
    "from sklearn.model_selection import train_test_split\n",
    "from transformers import AutoTokenizer, AutoModel,BertTokenizer, BertModel,GPT2Tokenizer, GPT2Model\n",
    "from torch import optim, nn\n",
    "import torch.nn.functional as F\n",
    "import torch\n",
    "from torch.utils.data import TensorDataset, DataLoader, RandomSampler, SequentialSampler\n",
    "import pandas as pd\n",
    "import re\n",
    "import matplotlib.pyplot as plt\n",
    "from tqdm import tqdm, trange\n",
    "import numpy as np\n",
    "import pickle\n",
    "import seaborn as sn\n",
    "from sklearn.metrics import accuracy_score, f1_score\n",
    "from sklearn.model_selection import train_test_split\n",
    "import math\n",
    "from scipy.stats import wilcoxon"
   ]
  },
  {
   "cell_type": "code",
   "execution_count": null,
   "metadata": {
    "id": "I_KoesYZ6m4X",
    "outputId": "112f17a5-1e84-4b9a-f564-b048707eed2c"
   },
   "outputs": [],
   "source": [
    "df = pd.read_csv('dataset.csv') #INSERT OUR dataset.csv\n",
    "df.head()"
   ]
  },
  {
   "cell_type": "code",
   "execution_count": null,
   "metadata": {
    "id": "fBsZWZyj6m4Y",
    "outputId": "2f79ba5a-39d4-4f1e-c0e6-c2c15c6c8b53"
   },
   "outputs": [],
   "source": [
    "df.author.value_counts()"
   ]
  },
  {
   "cell_type": "code",
   "execution_count": null,
   "metadata": {
    "id": "I37LBTHA6m4Z"
   },
   "outputs": [],
   "source": [
    "sentences = df.text.values\n",
    "\n",
    "target_clean_train = []\n",
    "\n",
    "for x in df.author:\n",
    "    if x == 'author1':\n",
    "        target_clean_train.append(0)\n",
    "    if x == 'author2':\n",
    "        target_clean_train.append(1)\n",
    "    if x == 'author3':\n",
    "        target_clean_train.append(2)\n",
    "        \n",
    "labels = np.array(target_clean_train)\n"
   ]
  },
  {
   "cell_type": "code",
   "execution_count": null,
   "metadata": {
    "id": "4rFAklT86m4c"
   },
   "outputs": [],
   "source": [
    "def calculate_mean(number_list):\n",
    "    sum = 0\n",
    "    for number in number_list:\n",
    "        sum += number\n",
    "\n",
    "    return sum/len(number_list)\n",
    "\n",
    "def calculate_standard_deviation(number_list):\n",
    "    mean = calculate_mean(number_list)\n",
    "    summatory = 0\n",
    "    for number in number_list:\n",
    "        summatory += pow((number - mean),2)\n",
    "\n",
    "    summatory = summatory/len(number_list)\n",
    "\n",
    "    return math.sqrt(summatory)"
   ]
  },
  {
   "cell_type": "code",
   "execution_count": null,
   "metadata": {
    "id": "8JTtINSR6m4d"
   },
   "outputs": [],
   "source": [
    "def flat_accuracy(preds, labels):\n",
    "    pred_flat = np.argmax(preds, axis=1).flatten()\n",
    "    labels_flat = labels.flatten()\n",
    "    acc = np.sum(pred_flat == labels_flat) / len(labels_flat)\n",
    "    return acc"
   ]
  },
  {
   "cell_type": "code",
   "execution_count": null,
   "metadata": {
    "executionInfo": {
     "elapsed": 788,
     "status": "ok",
     "timestamp": 1645092610783,
     "user": {
      "displayName": "federico ranaldi",
      "photoUrl": "https://lh3.googleusercontent.com/a/default-user=s64",
      "userId": "02151323048761655178"
     },
     "user_tz": -60
    },
    "id": "HLI-rYb56m4e"
   },
   "outputs": [],
   "source": [
    "def define_input(seed, random_state, sentences, model_type, epochs):\n",
    "    \n",
    "    device = torch.device(\"cuda\" if torch.cuda.is_available() else \"cpu\")\n",
    "    if torch.cuda.is_available(): torch.cuda.manual_seed_all(seed)\n",
    "        \n",
    "    global tokenizer\n",
    "    global model_architecture\n",
    "        \n",
    "    sentences = [\"[CLS] \" + sentence + \" [SEP]\" for sentence in sentences]\n",
    "    \n",
    "    if model_type == 'Bert':\n",
    "        tokenizer = BertTokenizer.from_pretrained(\"bert-base-uncased\", do_lower_case=True)\n",
    "        model_architecture = BertModel.from_pretrained('bert-base-uncased').to(\"cuda\" if torch.cuda.is_available() else \"cpu\")\n",
    "\n",
    "    if model_type == 'Electra':\n",
    "        tokenizer = AutoTokenizer.from_pretrained(\"google/electra-base-discriminator\")\n",
    "        model_architecture = AutoModel.from_pretrained(\"google/electra-base-discriminator\").to(\"cuda\" if torch.cuda.is_available() else \"cpu\")\n",
    "                \n",
    "    if model_type == 'XLNet':\n",
    "        tokenizer = AutoTokenizer.from_pretrained(\"xlnet-base-cased\")\n",
    "        model_architecture = AutoModel.from_pretrained(\"xlnet-base-cased\").to(\"cuda\" if torch.cuda.is_available() else \"cpu\")\n",
    "\n",
    "    if model_type == 'Multilingua-Bert':\n",
    "        tokenizer = BertTokenizer.from_pretrained('bert-base-multilingual-uncased')\n",
    "        model_architecture = BertModel.from_pretrained(\"bert-base-multilingual-uncased\").to(\"cuda\" if torch.cuda.is_available() else \"cpu\")\n",
    "\n",
    "    if model_type == 'Ernie':\n",
    "        tokenizer = AutoTokenizer.from_pretrained(\"nghuyong/ernie-2.0-en\")\n",
    "        model_architecture = AutoModel.from_pretrained(\"nghuyong/ernie-2.0-en\").to(\"cuda\" if torch.cuda.is_available() else \"cpu\")\n",
    "\n",
    "    if model_type == 'gpt':\n",
    "        tokenizer = AutoTokenizer.from_pretrained(\"gpt2\")\n",
    "        model_architecture = AutoModel.from_pretrained(\"gpt2\").to(\"cuda\" if torch.cuda.is_available() else \"cpu\")\n",
    "\n",
    "    \n",
    "    \n",
    "    tokenized_texts = [tokenizer.tokenize(sent) for sent in sentences]\n",
    "    \n",
    "    MAX_LEN = 128\n",
    "    input_ids = pad_sequences([tokenizer.convert_tokens_to_ids(txt) for txt in tokenized_texts],\n",
    "                          maxlen=MAX_LEN, dtype=\"long\", truncating=\"post\", padding=\"post\")\n",
    "    \n",
    "    attention_masks = []\n",
    "\n",
    "    for seq in input_ids:\n",
    "        seq_mask = [float(i>0) for i in seq]\n",
    "        attention_masks.append(seq_mask)\n",
    "        \n",
    "    X_inputs, test_inputs, X_labels, test_labels = train_test_split(input_ids, labels, random_state=random_state, test_size=0.1)\n",
    "    X_masks, test_masks, _, _ = train_test_split(attention_masks, input_ids, random_state=random_state, test_size=0.1)\n",
    "\n",
    "    train_inputs, validation_inputs, train_labels, validation_labels = train_test_split(X_inputs, X_labels, random_state=random_state, test_size=0.1)\n",
    "    train_masks, validation_masks, _, _ = train_test_split(X_masks, X_inputs, random_state=random_state, test_size=0.1)\n",
    "\n",
    "    train_inputs = torch.tensor(train_inputs)\n",
    "    train_labels = torch.tensor(train_labels)\n",
    "    train_masks = torch.tensor(train_masks)\n",
    "\n",
    "    validation_inputs = torch.tensor(validation_inputs)\n",
    "    validation_labels = torch.tensor(validation_labels)\n",
    "    validation_masks = torch.tensor(validation_masks)\n",
    "\n",
    "    test_inputs = torch.tensor(test_inputs)\n",
    "    test_labels = torch.tensor(test_labels)\n",
    "    test_masks = torch.tensor(test_masks)\n",
    "\n",
    "    batch_size = 32\n",
    "\n",
    "    train_data = TensorDataset(train_inputs, train_masks, train_labels)\n",
    "    train_sampler = RandomSampler(train_data)\n",
    "    train_dataloader = DataLoader(train_data, sampler=train_sampler, batch_size=batch_size)\n",
    "\n",
    "    validation_data = TensorDataset(validation_inputs, validation_masks, validation_labels)\n",
    "    validation_sampler = SequentialSampler(validation_data)\n",
    "    validation_dataloader = DataLoader(validation_data, sampler=validation_sampler, batch_size=batch_size)\n",
    "\n",
    "    test_data = TensorDataset(test_inputs, test_masks, test_labels)\n",
    "    test_sampler = SequentialSampler(test_data)\n",
    "    test_dataloader = DataLoader(test_data, sampler=test_sampler, batch_size=batch_size)\n",
    "    \n",
    "    return train_dataloader, validation_dataloader, test_dataloader, model_architecture, device, test_labels\n",
    "    "
   ]
  },
  {
   "cell_type": "code",
   "execution_count": null,
   "metadata": {
    "colab": {
     "base_uri": "https://localhost:8080/",
     "height": 245
    },
    "executionInfo": {
     "elapsed": 325,
     "status": "error",
     "timestamp": 1645089035083,
     "user": {
      "displayName": "federico ranaldi",
      "photoUrl": "https://lh3.googleusercontent.com/a/default-user=s64",
      "userId": "02151323048761655178"
     },
     "user_tz": -60
    },
    "id": "fkwtuGc_6m4m",
    "outputId": "b6d8ebb9-b684-4498-b6a4-5a6fd3ad17c7"
   },
   "outputs": [],
   "source": [
    "class Model_Transformer(nn.Module):\n",
    "  \n",
    "    def __init__(self, input_dim_bert, output_dim, model_architecture):\n",
    "        super().__init__()\n",
    "        self.bert = model_architecture\n",
    "        \n",
    "        self.dropout = nn.Dropout(0.1)\n",
    "        self.sem_linear = nn.Linear(input_dim_bert, output_dim)\n",
    "        \n",
    "    def forward(self, x_sem, attention_mask):\n",
    "        with torch.no_grad():\n",
    "            pooled_output = self.bert(x_sem, attention_mask)[0][:, 0, :]  \n",
    "            pooled_output = self.dropout(pooled_output)\n",
    "        logits = self.sem_linear(pooled_output)\n",
    "\n",
    "        return logits\n",
    "    \n",
    "class Model_Transformer_2(nn.Module):\n",
    "  \n",
    "    def __init__(self, input_dim_bert, output_dim, model_architecture):\n",
    "        super().__init__()\n",
    "        self.bert = model_architecture\n",
    "        \n",
    "        self.dropout = nn.Dropout(0.1)\n",
    "        self.sem_linear = nn.Linear(input_dim_bert, output_dim)\n",
    "        \n",
    "    def forward(self, x_sem, attention_mask):\n",
    "        \n",
    "        gpt_out = self.bert(x_sem)[0] #returns tuple\n",
    "        poled_output = self.dropout(gpt_out.shape[0]) \n",
    "        logits = self.sem_linear(gpt_out.view(batch_size,-1))\n",
    "\n",
    "        #logits = self.sem_linear(pooled_output)\n",
    "\n",
    "        return logits"
   ]
  },
  {
   "cell_type": "markdown",
   "metadata": {
    "id": "9e5-rrNp6m4n"
   },
   "source": [
    "# Creiamo le funzioni di applicazione dei modelli"
   ]
  },
  {
   "cell_type": "markdown",
   "metadata": {
    "id": "2t5WYopz6m4n"
   },
   "source": [
    "### Esecuzione di solo Bert"
   ]
  },
  {
   "cell_type": "code",
   "execution_count": null,
   "metadata": {
    "id": "U6LWLcQk6m4o"
   },
   "outputs": [],
   "source": [
    "def execute_Transformer(epochs, model_architecture, train_dataloader, validation_dataloader, test_dataloader, device, test_labels):\n",
    "    \n",
    "    Alone_model = Model_Transformer(768,3, model_architecture)\n",
    "    \n",
    "    criterion = nn.CrossEntropyLoss()\n",
    "    parameters = filter(lambda p: p.requires_grad, Alone_model.parameters())\n",
    "    optimizer = optim.AdamW(Alone_model.parameters(), lr=2e-5)\n",
    "\n",
    "    Alone_model.cuda()\n",
    "\n",
    "    train_loss_set = []\n",
    "    epoch = 0\n",
    "\n",
    "    # BERT training loop\n",
    "    for _ in trange(epochs, desc=\"Epoch\"):  \n",
    "        Alone_model.train()  \n",
    "          # Tracking variables\n",
    "        tr_loss = 0\n",
    "        nb_tr_examples, nb_tr_steps = 0, 0\n",
    "      # Train the data for one epoch\n",
    "        for step, batch in enumerate(train_dataloader):\n",
    "            #print(step, batch)\n",
    "            # Add batch to GPU\n",
    "            batch = tuple(t.cuda() for t in batch)\n",
    "            # Unpack the inputs from our dataloader\n",
    "            b_input_ids, b_input_mask, b_labels = batch\n",
    "            # Clear out the gradients (by default they accumulate)\n",
    "            optimizer.zero_grad()\n",
    "            # Forward pass\n",
    "\n",
    "            target_hat = Alone_model(b_input_ids, b_input_mask)\n",
    "\n",
    "            loss = criterion(target_hat, b_labels)\n",
    "            train_loss_set.append(loss.item())\n",
    "\n",
    "            # Backward pass\n",
    "            loss.backward()\n",
    "            # Update parameters and take a step using the computed gradient\n",
    "            optimizer.step()\n",
    "            # Update tracking variables\n",
    "            tr_loss += loss.item()\n",
    "            nb_tr_examples += b_input_ids.size(0)\n",
    "            nb_tr_steps += 1\n",
    "\n",
    "        ## VALIDATION\n",
    "\n",
    "      # Put model in evaluation mode\n",
    "        Alone_model.eval()\n",
    "        # Tracking variables \n",
    "        eval_loss, eval_accuracy = 0, 0\n",
    "        nb_eval_steps, nb_eval_examples = 0, 0\n",
    "        # Evaluate data for one epoch\n",
    "        for batch in validation_dataloader:\n",
    "            # Add batch to GPU\n",
    "            batch = tuple(t.cuda() for t in batch)\n",
    "            # Unpack the inputs from our dataloader\n",
    "            b_input_ids, b_input_mask, b_labels = batch\n",
    "            # Telling the model not to compute or store gradients, saving memory and speeding up validation\n",
    "            with torch.no_grad():\n",
    "\n",
    "              # Forward pass, calculate logit predictions\n",
    "\n",
    "              logits = Alone_model(b_input_ids, b_input_mask)\n",
    "\n",
    "            # Move logits and labels to CPU\n",
    "            logits = logits.detach().cpu().numpy()\n",
    "            label_ids = b_labels.to('cpu').numpy()\n",
    "            tmp_eval_accuracy = flat_accuracy(logits, label_ids)    \n",
    "            eval_accuracy += tmp_eval_accuracy\n",
    "            nb_eval_steps += 1\n",
    "\n",
    "        epoch +=1\n",
    "\n",
    "    predictions = []\n",
    "    Alone_model.eval()\n",
    "\n",
    "    for batch in test_dataloader:\n",
    "        batch = tuple(t.to(device) for t in batch)\n",
    "        b_input_ids, b_input_mask, b_labels = batch\n",
    "\n",
    "        with torch.no_grad():\n",
    "            logits = Alone_model(b_input_ids, b_input_mask)\n",
    "        logits = logits.detach().cpu().numpy()\n",
    "\n",
    "        predictions.append(logits)\n",
    "\n",
    "        flat_predictions = [item for sublist in predictions for item in sublist]\n",
    "        flat_predictions = np.argmax(flat_predictions, axis=1).flatten()\n",
    "        \n",
    "    A = accuracy_score(test_labels.numpy(), flat_predictions)\n",
    "    B = f1_score(test_labels.numpy(), flat_predictions, average='macro')\n",
    "    C = f1_score(test_labels.numpy(), flat_predictions, average='weighted')\n",
    "    D = f1_score(test_labels.numpy(), flat_predictions, average=None)\n",
    "        \n",
    "    return A,B,C,D"
   ]
  },
  {
   "cell_type": "code",
   "execution_count": null,
   "metadata": {
    "id": "eTZtc9uA6m4p"
   },
   "outputs": [],
   "source": [
    "seed = [46, 23, 17, 54, 31]\n",
    "random_state = [1024, 3333, 1995, 2780, 3833]\n",
    "model_architecture_list = ['Bert','XLNet','Multilingua-Bert', 'Electra', 'Ernie','gpt']\n",
    "epochs = 5\n",
    "\n",
    "model_architecture = model_architecture_list[0]"
   ]
  },
  {
   "cell_type": "code",
   "execution_count": null,
   "metadata": {
    "id": "Gh0ejnzQ6m4q",
    "outputId": "18356865-554c-41c3-80ca-665852fbae73"
   },
   "outputs": [],
   "source": [
    "Bert_accuracy_list = []\n",
    "Bert_macro_list = []\n",
    "Bert_weighted_list = []\n",
    "Bert_other_0 = []\n",
    "Bert_other_1 = []\n",
    "\n",
    "\n",
    "for i in range(0, 5):\n",
    "        train_dataloder, validation_dataloader, test_dataloder, model_architecture, device, test_labels = define_input(seed[i], random_state[i], sentences, model_architecture, epochs)\n",
    "\n",
    "    A,B,C,D = execute_Transformer(epochs, model_architecture, train_dataloder, validation_dataloader, test_dataloder, device, test_labels)\n",
    "    \n",
    "    Bert_accuracy_list.append(A*100)\n",
    "    Bert_macro_list.append(B)\n",
    "    Bert_weighted_list.append(C)\n",
    "    Bert_other_0.append(D[0])\n",
    "    Bert_other_1.append(D[1])"
   ]
  },
  {
   "cell_type": "code",
   "execution_count": null,
   "metadata": {
    "id": "HTllSHHX6m4q"
   },
   "outputs": [],
   "source": [
    "print('*********** F1 - SCORE CLASS 0')\n",
    "print(round(calculate_mean(Bert_other_0), 2))\n",
    "print(round(calculate_standard_deviation(Bert_other_0), 2))\n",
    "\n",
    "print('*********** F1 - SCORE CLASS 1')\n",
    "print(round(calculate_mean(Bert_other_1), 2))\n",
    "print(round(calculate_standard_deviation(Bert_other_1), 2))\n",
    "\n",
    "print('*********** ACCURACY')\n",
    "print(round(calculate_mean(Bert_accuracy_list),2))\n",
    "print(round(calculate_standard_deviation(Bert_accuracy_list),2))\n",
    "\n",
    "print('*********** MACRO')\n",
    "print(round(calculate_mean(Bert_macro_list),2))\n",
    "print(round(calculate_standard_deviation(Bert_macro_list),2))\n",
    "\n",
    "print('*********** WEIGHTED')\n",
    "print(round(calculate_mean(Bert_weighted_list), 2))\n",
    "print(round(calculate_standard_deviation(Bert_weighted_list), 2))"
   ]
  },
  {
   "cell_type": "code",
   "execution_count": null,
   "metadata": {
    "id": "NAzK1nhv6m4r"
   },
   "outputs": [],
   "source": []
  },
  {
   "cell_type": "code",
   "execution_count": null,
   "metadata": {
    "id": "3Me2XUa_6m4r"
   },
   "outputs": [],
   "source": []
  },
  {
   "cell_type": "code",
   "execution_count": null,
   "metadata": {
    "id": "LE3ztsj56m4r"
   },
   "outputs": [],
   "source": []
  },
  {
   "cell_type": "code",
   "execution_count": null,
   "metadata": {
    "id": "9VQGTDPr6m4r"
   },
   "outputs": [],
   "source": []
  },
  {
   "cell_type": "code",
   "execution_count": null,
   "metadata": {
    "id": "1BlIBSpU6m4r"
   },
   "outputs": [],
   "source": []
  },
  {
   "cell_type": "code",
   "execution_count": null,
   "metadata": {
    "id": "ztLTCgBl6m4s"
   },
   "outputs": [],
   "source": []
  },
  {
   "cell_type": "code",
   "execution_count": null,
   "metadata": {
    "id": "k7OMbdYW6m4s"
   },
   "outputs": [],
   "source": []
  },
  {
   "cell_type": "markdown",
   "metadata": {
    "id": "06f3IViJ6m4s"
   },
   "source": [
    "# Verifichiamo se i risultati ottenuti sono statisticamente significativi"
   ]
  },
  {
   "cell_type": "code",
   "execution_count": null,
   "metadata": {
    "id": "iuTXYjjP6m4s"
   },
   "outputs": [],
   "source": [
    "def p_test(p):\n",
    "    alpha = 0.05\n",
    "    if p > alpha:\n",
    "        print('Same distribution (fail to reject H0)')\n",
    "    else:\n",
    "        print('Different distribution (reject H0)')"
   ]
  },
  {
   "cell_type": "markdown",
   "metadata": {
    "id": "JexMM91g6m4s"
   },
   "source": [
    "**Potter vs Kermit**"
   ]
  },
  {
   "cell_type": "code",
   "execution_count": null,
   "metadata": {
    "id": "l5q9-y9K6m4s",
    "outputId": "de9b5720-a149-43b7-b611-12c57a9f0fd3"
   },
   "outputs": [],
   "source": [
    "a_w, a_p = wilcoxon(Potter_accuracy_list, Kermit_accuracy_list)\n",
    "m_w, m_p = wilcoxon(Potter_macro_list, Kermit_macro_list)\n",
    "w_w, w_p = wilcoxon(Potter_weighted_list, Kermit_weighted_list)"
   ]
  },
  {
   "cell_type": "code",
   "execution_count": null,
   "metadata": {
    "id": "BLi2dAtg6m4t"
   },
   "outputs": [],
   "source": [
    "p_test(a_p)\n",
    "p_test(m_p)\n",
    "p_test(w_p)"
   ]
  },
  {
   "cell_type": "markdown",
   "metadata": {
    "id": "-BMT9Oy06m4t"
   },
   "source": [
    "**Potter vs Bert**"
   ]
  },
  {
   "cell_type": "code",
   "execution_count": null,
   "metadata": {
    "id": "zVbRgsQB6m4t"
   },
   "outputs": [],
   "source": [
    "a_w, a_p = wilcoxon(Potter_accuracy_list, Bert_accuracy_list)\n",
    "m_w, m_p = wilcoxon(Potter_macro_list, Bert_macro_list)\n",
    "w_w, w_p = wilcoxon(Potter_weighted_list, Bert_weighted_list)"
   ]
  },
  {
   "cell_type": "code",
   "execution_count": null,
   "metadata": {
    "id": "0T2aXWdN6m4u"
   },
   "outputs": [],
   "source": [
    "p_test(a_p)\n",
    "p_test(m_p)\n",
    "p_test(w_p)"
   ]
  },
  {
   "cell_type": "markdown",
   "metadata": {
    "id": "OaNDMIcD6m4u"
   },
   "source": [
    "**Kermit vs Bert**"
   ]
  },
  {
   "cell_type": "code",
   "execution_count": null,
   "metadata": {
    "id": "9dE2VEiI6m4u"
   },
   "outputs": [],
   "source": [
    "a_w, a_p = wilcoxon(Kermit_accuracy_list, Bert_accuracy_list)\n",
    "m_w, m_p = wilcoxon(Kermit_macro_list, Bert_macro_list)\n",
    "w_w, w_p = wilcoxon(Kermit_weighted_list, Bert_weighted_list)"
   ]
  },
  {
   "cell_type": "code",
   "execution_count": null,
   "metadata": {
    "id": "Hf4rS2zh6m4u"
   },
   "outputs": [],
   "source": [
    "p_test(a_p)\n",
    "p_test(m_p)\n",
    "p_test(w_p)"
   ]
  },
  {
   "cell_type": "code",
   "execution_count": null,
   "metadata": {
    "id": "SWea04AA6m4u",
    "scrolled": true
   },
   "outputs": [],
   "source": []
  }
 ],
 "metadata": {
  "colab": {
   "name": "Transf_Based.ipynb",
   "provenance": []
  },
  "kernelspec": {
   "display_name": "Python 3 (ipykernel)",
   "language": "python",
   "name": "python3"
  },
  "language_info": {
   "codemirror_mode": {
    "name": "ipython",
    "version": 3
   },
   "file_extension": ".py",
   "mimetype": "text/x-python",
   "name": "python",
   "nbconvert_exporter": "python",
   "pygments_lexer": "ipython3",
   "version": "3.8.10"
  }
 },
 "nbformat": 4,
 "nbformat_minor": 4
}
