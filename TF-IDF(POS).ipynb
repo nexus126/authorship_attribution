{
 "cells": [
  {
   "cell_type": "code",
   "execution_count": 1,
   "metadata": {
    "id": "HYdqwvZ_soRI"
   },
   "outputs": [],
   "source": [
    "__author__      = \"Federico Ranaldi\""
   ]
  },
  {
   "cell_type": "code",
   "execution_count": null,
   "metadata": {},
   "outputs": [],
   "source": [
    "import numpy as np\n",
    "import pandas as pd\n",
    "import string\n",
    "import nltk\n",
    "import re\n",
    "from nltk.tokenize import word_tokenize\n",
    "from nltk import pos_tag\n",
    "from nltk.corpus import stopwords\n",
    "from nltk.stem import WordNetLemmatizer\n",
    "from sklearn.model_selection import train_test_split\n",
    "from sklearn.feature_extraction.text import TfidfVectorizer"
   ]
  },
  {
   "cell_type": "code",
   "execution_count": 2,
   "metadata": {
    "id": "-actwFfKs1dh"
   },
   "outputs": [],
   "source": [
    "df=pd.read_csv('data.csv')"
   ]
  },
  {
   "cell_type": "code",
   "execution_count": 3,
   "metadata": {
    "colab": {
     "base_uri": "https://localhost:8080/",
     "height": 206
    },
    "id": "37ke4cOIwG_d",
    "outputId": "c83af90e-5b9d-4e49-cd71-643a7e831917"
   },
   "outputs": [
    {
     "data": {
      "text/html": [
       "\n",
       "  <div id=\"df-da792dc8-8ae1-41e7-a130-eeeeff228b27\">\n",
       "    <div class=\"colab-df-container\">\n",
       "      <div>\n",
       "<style scoped>\n",
       "    .dataframe tbody tr th:only-of-type {\n",
       "        vertical-align: middle;\n",
       "    }\n",
       "\n",
       "    .dataframe tbody tr th {\n",
       "        vertical-align: top;\n",
       "    }\n",
       "\n",
       "    .dataframe thead th {\n",
       "        text-align: right;\n",
       "    }\n",
       "</style>\n",
       "<table border=\"1\" class=\"dataframe\">\n",
       "  <thead>\n",
       "    <tr style=\"text-align: right;\">\n",
       "      <th></th>\n",
       "      <th>Unnamed: 0</th>\n",
       "      <th>Unnamed: 0.1</th>\n",
       "      <th>text</th>\n",
       "      <th>author</th>\n",
       "    </tr>\n",
       "  </thead>\n",
       "  <tbody>\n",
       "    <tr>\n",
       "      <th>0</th>\n",
       "      <td>0</td>\n",
       "      <td>0.0</td>\n",
       "      <td>Who is the happy Warrior ? Who is he That ever...</td>\n",
       "      <td>William Wordsworth</td>\n",
       "    </tr>\n",
       "    <tr>\n",
       "      <th>1</th>\n",
       "      <td>1</td>\n",
       "      <td>1.0</td>\n",
       "      <td>wish to be ? —It is the generous Spirit , who ...</td>\n",
       "      <td>William Wordsworth</td>\n",
       "    </tr>\n",
       "    <tr>\n",
       "      <th>2</th>\n",
       "      <td>2</td>\n",
       "      <td>2.0</td>\n",
       "      <td>the tasks of real life , hath wrought Upon the...</td>\n",
       "      <td>William Wordsworth</td>\n",
       "    </tr>\n",
       "    <tr>\n",
       "      <th>3</th>\n",
       "      <td>3</td>\n",
       "      <td>3.0</td>\n",
       "      <td>thought : Whose high endeavours are an inward ...</td>\n",
       "      <td>William Wordsworth</td>\n",
       "    </tr>\n",
       "    <tr>\n",
       "      <th>4</th>\n",
       "      <td>4</td>\n",
       "      <td>4.0</td>\n",
       "      <td>always bright ; Who , with a natural instinct ...</td>\n",
       "      <td>William Wordsworth</td>\n",
       "    </tr>\n",
       "  </tbody>\n",
       "</table>\n",
       "</div>\n",
       "      <button class=\"colab-df-convert\" onclick=\"convertToInteractive('df-da792dc8-8ae1-41e7-a130-eeeeff228b27')\"\n",
       "              title=\"Convert this dataframe to an interactive table.\"\n",
       "              style=\"display:none;\">\n",
       "        \n",
       "  <svg xmlns=\"http://www.w3.org/2000/svg\" height=\"24px\"viewBox=\"0 0 24 24\"\n",
       "       width=\"24px\">\n",
       "    <path d=\"M0 0h24v24H0V0z\" fill=\"none\"/>\n",
       "    <path d=\"M18.56 5.44l.94 2.06.94-2.06 2.06-.94-2.06-.94-.94-2.06-.94 2.06-2.06.94zm-11 1L8.5 8.5l.94-2.06 2.06-.94-2.06-.94L8.5 2.5l-.94 2.06-2.06.94zm10 10l.94 2.06.94-2.06 2.06-.94-2.06-.94-.94-2.06-.94 2.06-2.06.94z\"/><path d=\"M17.41 7.96l-1.37-1.37c-.4-.4-.92-.59-1.43-.59-.52 0-1.04.2-1.43.59L10.3 9.45l-7.72 7.72c-.78.78-.78 2.05 0 2.83L4 21.41c.39.39.9.59 1.41.59.51 0 1.02-.2 1.41-.59l7.78-7.78 2.81-2.81c.8-.78.8-2.07 0-2.86zM5.41 20L4 18.59l7.72-7.72 1.47 1.35L5.41 20z\"/>\n",
       "  </svg>\n",
       "      </button>\n",
       "      \n",
       "  <style>\n",
       "    .colab-df-container {\n",
       "      display:flex;\n",
       "      flex-wrap:wrap;\n",
       "      gap: 12px;\n",
       "    }\n",
       "\n",
       "    .colab-df-convert {\n",
       "      background-color: #E8F0FE;\n",
       "      border: none;\n",
       "      border-radius: 50%;\n",
       "      cursor: pointer;\n",
       "      display: none;\n",
       "      fill: #1967D2;\n",
       "      height: 32px;\n",
       "      padding: 0 0 0 0;\n",
       "      width: 32px;\n",
       "    }\n",
       "\n",
       "    .colab-df-convert:hover {\n",
       "      background-color: #E2EBFA;\n",
       "      box-shadow: 0px 1px 2px rgba(60, 64, 67, 0.3), 0px 1px 3px 1px rgba(60, 64, 67, 0.15);\n",
       "      fill: #174EA6;\n",
       "    }\n",
       "\n",
       "    [theme=dark] .colab-df-convert {\n",
       "      background-color: #3B4455;\n",
       "      fill: #D2E3FC;\n",
       "    }\n",
       "\n",
       "    [theme=dark] .colab-df-convert:hover {\n",
       "      background-color: #434B5C;\n",
       "      box-shadow: 0px 1px 3px 1px rgba(0, 0, 0, 0.15);\n",
       "      filter: drop-shadow(0px 1px 2px rgba(0, 0, 0, 0.3));\n",
       "      fill: #FFFFFF;\n",
       "    }\n",
       "  </style>\n",
       "\n",
       "      <script>\n",
       "        const buttonEl =\n",
       "          document.querySelector('#df-da792dc8-8ae1-41e7-a130-eeeeff228b27 button.colab-df-convert');\n",
       "        buttonEl.style.display =\n",
       "          google.colab.kernel.accessAllowed ? 'block' : 'none';\n",
       "\n",
       "        async function convertToInteractive(key) {\n",
       "          const element = document.querySelector('#df-da792dc8-8ae1-41e7-a130-eeeeff228b27');\n",
       "          const dataTable =\n",
       "            await google.colab.kernel.invokeFunction('convertToInteractive',\n",
       "                                                     [key], {});\n",
       "          if (!dataTable) return;\n",
       "\n",
       "          const docLinkHtml = 'Like what you see? Visit the ' +\n",
       "            '<a target=\"_blank\" href=https://colab.research.google.com/notebooks/data_table.ipynb>data table notebook</a>'\n",
       "            + ' to learn more about interactive tables.';\n",
       "          element.innerHTML = '';\n",
       "          dataTable['output_type'] = 'display_data';\n",
       "          await google.colab.output.renderOutput(dataTable, element);\n",
       "          const docLink = document.createElement('div');\n",
       "          docLink.innerHTML = docLinkHtml;\n",
       "          element.appendChild(docLink);\n",
       "        }\n",
       "      </script>\n",
       "    </div>\n",
       "  </div>\n",
       "  "
      ],
      "text/plain": [
       "   Unnamed: 0  ...              author\n",
       "0           0  ...  William Wordsworth\n",
       "1           1  ...  William Wordsworth\n",
       "2           2  ...  William Wordsworth\n",
       "3           3  ...  William Wordsworth\n",
       "4           4  ...  William Wordsworth\n",
       "\n",
       "[5 rows x 4 columns]"
      ]
     },
     "execution_count": 3,
     "metadata": {},
     "output_type": "execute_result"
    }
   ],
   "source": [
    "df.head()"
   ]
  },
  {
   "cell_type": "code",
   "execution_count": 5,
   "metadata": {
    "colab": {
     "base_uri": "https://localhost:8080/"
    },
    "id": "POzTYrZcGiGY",
    "outputId": "650a2c43-65c3-49fe-a7e0-71bab6c17e95"
   },
   "outputs": [
    {
     "data": {
      "text/plain": [
       "array(['William Wordsworth', 'Percy Bysshe Shelley',\n",
       "       'William Shakespeare', 'Alfred, Lord Tennyson',\n",
       "       'Algernon Charles Swinburne', 'Anonymous', 'Walt Whitman',\n",
       "       'Edgar Allan Poe', 'Howard Phillips Lovecraft',\n",
       "       'Mary Wollstonecraft Shelley'], dtype=object)"
      ]
     },
     "execution_count": 5,
     "metadata": {},
     "output_type": "execute_result"
    }
   ],
   "source": [
    "df[\"author\"].unique()"
   ]
  },
  {
   "cell_type": "code",
   "execution_count": 6,
   "metadata": {
    "colab": {
     "base_uri": "https://localhost:8080/",
     "height": 394
    },
    "id": "PaXL3IgwGuhe",
    "outputId": "0f8a0fa1-1220-469b-8b35-d28e2a050b0b"
   },
   "outputs": [
    {
     "data": {
      "text/html": [
       "\n",
       "  <div id=\"df-f79ea583-1ece-4977-8735-8449ae0cd586\">\n",
       "    <div class=\"colab-df-container\">\n",
       "      <div>\n",
       "<style scoped>\n",
       "    .dataframe tbody tr th:only-of-type {\n",
       "        vertical-align: middle;\n",
       "    }\n",
       "\n",
       "    .dataframe tbody tr th {\n",
       "        vertical-align: top;\n",
       "    }\n",
       "\n",
       "    .dataframe thead th {\n",
       "        text-align: right;\n",
       "    }\n",
       "</style>\n",
       "<table border=\"1\" class=\"dataframe\">\n",
       "  <thead>\n",
       "    <tr style=\"text-align: right;\">\n",
       "      <th></th>\n",
       "      <th>text</th>\n",
       "    </tr>\n",
       "    <tr>\n",
       "      <th>author</th>\n",
       "      <th></th>\n",
       "    </tr>\n",
       "  </thead>\n",
       "  <tbody>\n",
       "    <tr>\n",
       "      <th>Alfred, Lord Tennyson</th>\n",
       "      <td>2318</td>\n",
       "    </tr>\n",
       "    <tr>\n",
       "      <th>Algernon Charles Swinburne</th>\n",
       "      <td>2155</td>\n",
       "    </tr>\n",
       "    <tr>\n",
       "      <th>Anonymous</th>\n",
       "      <td>2300</td>\n",
       "    </tr>\n",
       "    <tr>\n",
       "      <th>Edgar Allan Poe</th>\n",
       "      <td>2500</td>\n",
       "    </tr>\n",
       "    <tr>\n",
       "      <th>Howard Phillips Lovecraft</th>\n",
       "      <td>2500</td>\n",
       "    </tr>\n",
       "    <tr>\n",
       "      <th>Mary Wollstonecraft Shelley</th>\n",
       "      <td>2500</td>\n",
       "    </tr>\n",
       "    <tr>\n",
       "      <th>Percy Bysshe Shelley</th>\n",
       "      <td>2301</td>\n",
       "    </tr>\n",
       "    <tr>\n",
       "      <th>Walt Whitman</th>\n",
       "      <td>2251</td>\n",
       "    </tr>\n",
       "    <tr>\n",
       "      <th>William Shakespeare</th>\n",
       "      <td>2143</td>\n",
       "    </tr>\n",
       "    <tr>\n",
       "      <th>William Wordsworth</th>\n",
       "      <td>2015</td>\n",
       "    </tr>\n",
       "  </tbody>\n",
       "</table>\n",
       "</div>\n",
       "      <button class=\"colab-df-convert\" onclick=\"convertToInteractive('df-f79ea583-1ece-4977-8735-8449ae0cd586')\"\n",
       "              title=\"Convert this dataframe to an interactive table.\"\n",
       "              style=\"display:none;\">\n",
       "        \n",
       "  <svg xmlns=\"http://www.w3.org/2000/svg\" height=\"24px\"viewBox=\"0 0 24 24\"\n",
       "       width=\"24px\">\n",
       "    <path d=\"M0 0h24v24H0V0z\" fill=\"none\"/>\n",
       "    <path d=\"M18.56 5.44l.94 2.06.94-2.06 2.06-.94-2.06-.94-.94-2.06-.94 2.06-2.06.94zm-11 1L8.5 8.5l.94-2.06 2.06-.94-2.06-.94L8.5 2.5l-.94 2.06-2.06.94zm10 10l.94 2.06.94-2.06 2.06-.94-2.06-.94-.94-2.06-.94 2.06-2.06.94z\"/><path d=\"M17.41 7.96l-1.37-1.37c-.4-.4-.92-.59-1.43-.59-.52 0-1.04.2-1.43.59L10.3 9.45l-7.72 7.72c-.78.78-.78 2.05 0 2.83L4 21.41c.39.39.9.59 1.41.59.51 0 1.02-.2 1.41-.59l7.78-7.78 2.81-2.81c.8-.78.8-2.07 0-2.86zM5.41 20L4 18.59l7.72-7.72 1.47 1.35L5.41 20z\"/>\n",
       "  </svg>\n",
       "      </button>\n",
       "      \n",
       "  <style>\n",
       "    .colab-df-container {\n",
       "      display:flex;\n",
       "      flex-wrap:wrap;\n",
       "      gap: 12px;\n",
       "    }\n",
       "\n",
       "    .colab-df-convert {\n",
       "      background-color: #E8F0FE;\n",
       "      border: none;\n",
       "      border-radius: 50%;\n",
       "      cursor: pointer;\n",
       "      display: none;\n",
       "      fill: #1967D2;\n",
       "      height: 32px;\n",
       "      padding: 0 0 0 0;\n",
       "      width: 32px;\n",
       "    }\n",
       "\n",
       "    .colab-df-convert:hover {\n",
       "      background-color: #E2EBFA;\n",
       "      box-shadow: 0px 1px 2px rgba(60, 64, 67, 0.3), 0px 1px 3px 1px rgba(60, 64, 67, 0.15);\n",
       "      fill: #174EA6;\n",
       "    }\n",
       "\n",
       "    [theme=dark] .colab-df-convert {\n",
       "      background-color: #3B4455;\n",
       "      fill: #D2E3FC;\n",
       "    }\n",
       "\n",
       "    [theme=dark] .colab-df-convert:hover {\n",
       "      background-color: #434B5C;\n",
       "      box-shadow: 0px 1px 3px 1px rgba(0, 0, 0, 0.15);\n",
       "      filter: drop-shadow(0px 1px 2px rgba(0, 0, 0, 0.3));\n",
       "      fill: #FFFFFF;\n",
       "    }\n",
       "  </style>\n",
       "\n",
       "      <script>\n",
       "        const buttonEl =\n",
       "          document.querySelector('#df-f79ea583-1ece-4977-8735-8449ae0cd586 button.colab-df-convert');\n",
       "        buttonEl.style.display =\n",
       "          google.colab.kernel.accessAllowed ? 'block' : 'none';\n",
       "\n",
       "        async function convertToInteractive(key) {\n",
       "          const element = document.querySelector('#df-f79ea583-1ece-4977-8735-8449ae0cd586');\n",
       "          const dataTable =\n",
       "            await google.colab.kernel.invokeFunction('convertToInteractive',\n",
       "                                                     [key], {});\n",
       "          if (!dataTable) return;\n",
       "\n",
       "          const docLinkHtml = 'Like what you see? Visit the ' +\n",
       "            '<a target=\"_blank\" href=https://colab.research.google.com/notebooks/data_table.ipynb>data table notebook</a>'\n",
       "            + ' to learn more about interactive tables.';\n",
       "          element.innerHTML = '';\n",
       "          dataTable['output_type'] = 'display_data';\n",
       "          await google.colab.output.renderOutput(dataTable, element);\n",
       "          const docLink = document.createElement('div');\n",
       "          docLink.innerHTML = docLinkHtml;\n",
       "          element.appendChild(docLink);\n",
       "        }\n",
       "      </script>\n",
       "    </div>\n",
       "  </div>\n",
       "  "
      ],
      "text/plain": [
       "                             text\n",
       "author                           \n",
       "Alfred, Lord Tennyson        2318\n",
       "Algernon Charles Swinburne   2155\n",
       "Anonymous                    2300\n",
       "Edgar Allan Poe              2500\n",
       "Howard Phillips Lovecraft    2500\n",
       "Mary Wollstonecraft Shelley  2500\n",
       "Percy Bysshe Shelley         2301\n",
       "Walt Whitman                 2251\n",
       "William Shakespeare          2143\n",
       "William Wordsworth           2015"
      ]
     },
     "execution_count": 6,
     "metadata": {},
     "output_type": "execute_result"
    }
   ],
   "source": [
    "df.groupby(\"author\").count()"
   ]
  },
  {
   "cell_type": "code",
   "execution_count": 8,
   "metadata": {
    "id": "57CfRB_xITkG"
   },
   "outputs": [],
   "source": [
    "df.index=range(len(df))"
   ]
  },
  {
   "cell_type": "code",
   "execution_count": 9,
   "metadata": {
    "colab": {
     "base_uri": "https://localhost:8080/",
     "height": 237
    },
    "id": "_h-_MqRSzCk7",
    "outputId": "06f49e1a-7d52-4d2a-b422-a7c477ffa01f"
   },
   "outputs": [
    {
     "data": {
      "text/html": [
       "\n",
       "  <div id=\"df-675ff60f-2d01-4b56-b8fb-847179a5b5e2\">\n",
       "    <div class=\"colab-df-container\">\n",
       "      <div>\n",
       "<style scoped>\n",
       "    .dataframe tbody tr th:only-of-type {\n",
       "        vertical-align: middle;\n",
       "    }\n",
       "\n",
       "    .dataframe tbody tr th {\n",
       "        vertical-align: top;\n",
       "    }\n",
       "\n",
       "    .dataframe thead th {\n",
       "        text-align: right;\n",
       "    }\n",
       "</style>\n",
       "<table border=\"1\" class=\"dataframe\">\n",
       "  <thead>\n",
       "    <tr style=\"text-align: right;\">\n",
       "      <th></th>\n",
       "      <th>text</th>\n",
       "    </tr>\n",
       "    <tr>\n",
       "      <th>author</th>\n",
       "      <th></th>\n",
       "    </tr>\n",
       "  </thead>\n",
       "  <tbody>\n",
       "    <tr>\n",
       "      <th>Edgar Allan Poe</th>\n",
       "      <td>2500</td>\n",
       "    </tr>\n",
       "    <tr>\n",
       "      <th>Howard Phillips Lovecraft</th>\n",
       "      <td>2500</td>\n",
       "    </tr>\n",
       "    <tr>\n",
       "      <th>Mary Wollstonecraft Shelley</th>\n",
       "      <td>2500</td>\n",
       "    </tr>\n",
       "    <tr>\n",
       "      <th>Percy Bysshe Shelley</th>\n",
       "      <td>2301</td>\n",
       "    </tr>\n",
       "    <tr>\n",
       "      <th>William Shakespeare</th>\n",
       "      <td>2143</td>\n",
       "    </tr>\n",
       "  </tbody>\n",
       "</table>\n",
       "</div>\n",
       "      <button class=\"colab-df-convert\" onclick=\"convertToInteractive('df-675ff60f-2d01-4b56-b8fb-847179a5b5e2')\"\n",
       "              title=\"Convert this dataframe to an interactive table.\"\n",
       "              style=\"display:none;\">\n",
       "        \n",
       "  <svg xmlns=\"http://www.w3.org/2000/svg\" height=\"24px\"viewBox=\"0 0 24 24\"\n",
       "       width=\"24px\">\n",
       "    <path d=\"M0 0h24v24H0V0z\" fill=\"none\"/>\n",
       "    <path d=\"M18.56 5.44l.94 2.06.94-2.06 2.06-.94-2.06-.94-.94-2.06-.94 2.06-2.06.94zm-11 1L8.5 8.5l.94-2.06 2.06-.94-2.06-.94L8.5 2.5l-.94 2.06-2.06.94zm10 10l.94 2.06.94-2.06 2.06-.94-2.06-.94-.94-2.06-.94 2.06-2.06.94z\"/><path d=\"M17.41 7.96l-1.37-1.37c-.4-.4-.92-.59-1.43-.59-.52 0-1.04.2-1.43.59L10.3 9.45l-7.72 7.72c-.78.78-.78 2.05 0 2.83L4 21.41c.39.39.9.59 1.41.59.51 0 1.02-.2 1.41-.59l7.78-7.78 2.81-2.81c.8-.78.8-2.07 0-2.86zM5.41 20L4 18.59l7.72-7.72 1.47 1.35L5.41 20z\"/>\n",
       "  </svg>\n",
       "      </button>\n",
       "      \n",
       "  <style>\n",
       "    .colab-df-container {\n",
       "      display:flex;\n",
       "      flex-wrap:wrap;\n",
       "      gap: 12px;\n",
       "    }\n",
       "\n",
       "    .colab-df-convert {\n",
       "      background-color: #E8F0FE;\n",
       "      border: none;\n",
       "      border-radius: 50%;\n",
       "      cursor: pointer;\n",
       "      display: none;\n",
       "      fill: #1967D2;\n",
       "      height: 32px;\n",
       "      padding: 0 0 0 0;\n",
       "      width: 32px;\n",
       "    }\n",
       "\n",
       "    .colab-df-convert:hover {\n",
       "      background-color: #E2EBFA;\n",
       "      box-shadow: 0px 1px 2px rgba(60, 64, 67, 0.3), 0px 1px 3px 1px rgba(60, 64, 67, 0.15);\n",
       "      fill: #174EA6;\n",
       "    }\n",
       "\n",
       "    [theme=dark] .colab-df-convert {\n",
       "      background-color: #3B4455;\n",
       "      fill: #D2E3FC;\n",
       "    }\n",
       "\n",
       "    [theme=dark] .colab-df-convert:hover {\n",
       "      background-color: #434B5C;\n",
       "      box-shadow: 0px 1px 3px 1px rgba(0, 0, 0, 0.15);\n",
       "      filter: drop-shadow(0px 1px 2px rgba(0, 0, 0, 0.3));\n",
       "      fill: #FFFFFF;\n",
       "    }\n",
       "  </style>\n",
       "\n",
       "      <script>\n",
       "        const buttonEl =\n",
       "          document.querySelector('#df-675ff60f-2d01-4b56-b8fb-847179a5b5e2 button.colab-df-convert');\n",
       "        buttonEl.style.display =\n",
       "          google.colab.kernel.accessAllowed ? 'block' : 'none';\n",
       "\n",
       "        async function convertToInteractive(key) {\n",
       "          const element = document.querySelector('#df-675ff60f-2d01-4b56-b8fb-847179a5b5e2');\n",
       "          const dataTable =\n",
       "            await google.colab.kernel.invokeFunction('convertToInteractive',\n",
       "                                                     [key], {});\n",
       "          if (!dataTable) return;\n",
       "\n",
       "          const docLinkHtml = 'Like what you see? Visit the ' +\n",
       "            '<a target=\"_blank\" href=https://colab.research.google.com/notebooks/data_table.ipynb>data table notebook</a>'\n",
       "            + ' to learn more about interactive tables.';\n",
       "          element.innerHTML = '';\n",
       "          dataTable['output_type'] = 'display_data';\n",
       "          await google.colab.output.renderOutput(dataTable, element);\n",
       "          const docLink = document.createElement('div');\n",
       "          docLink.innerHTML = docLinkHtml;\n",
       "          element.appendChild(docLink);\n",
       "        }\n",
       "      </script>\n",
       "    </div>\n",
       "  </div>\n",
       "  "
      ],
      "text/plain": [
       "                             text\n",
       "author                           \n",
       "Edgar Allan Poe              2500\n",
       "Howard Phillips Lovecraft    2500\n",
       "Mary Wollstonecraft Shelley  2500\n",
       "Percy Bysshe Shelley         2301\n",
       "William Shakespeare          2143"
      ]
     },
     "execution_count": 9,
     "metadata": {},
     "output_type": "execute_result"
    }
   ],
   "source": [
    "df.groupby(\"author\").count()"
   ]
  },
  {
   "cell_type": "markdown",
   "metadata": {
    "id": "e39XACpO6aOK"
   },
   "source": [
    "**WORD-TOKENIZATION**"
   ]
  },
  {
   "cell_type": "code",
   "execution_count": 10,
   "metadata": {
    "colab": {
     "base_uri": "https://localhost:8080/"
    },
    "id": "V8BMfSXL7xp0",
    "outputId": "175fdfd9-9ec8-4bff-d0fc-a71a8d50a1ee"
   },
   "outputs": [
    {
     "name": "stdout",
     "output_type": "stream",
     "text": [
      "[nltk_data] Downloading package punkt to /root/nltk_data...\n",
      "[nltk_data]   Unzipping tokenizers/punkt.zip.\n"
     ]
    }
   ],
   "source": [
    "nltk.download('punkt')\n",
    "\n",
    "df['tokenized_sents'] = df.apply(lambda row: nltk.word_tokenize(row[\"text\"]), axis=1)"
   ]
  },
  {
   "cell_type": "markdown",
   "metadata": {
    "id": "VAkTVaIo7mSG"
   },
   "source": [
    "**POS-TAGGIN(PART-OF-SPEECH TAGGING)**"
   ]
  },
  {
   "cell_type": "code",
   "execution_count": 11,
   "metadata": {
    "colab": {
     "base_uri": "https://localhost:8080/"
    },
    "id": "gCn_4UcV6Zca",
    "outputId": "8cd28f22-d2e7-4671-d384-ef575196a697"
   },
   "outputs": [
    {
     "name": "stdout",
     "output_type": "stream",
     "text": [
      "[nltk_data] Downloading package averaged_perceptron_tagger to\n",
      "[nltk_data]     /root/nltk_data...\n",
      "[nltk_data]   Unzipping taggers/averaged_perceptron_tagger.zip.\n"
     ]
    }
   ],
   "source": [
    "\n",
    "nltk.download('averaged_perceptron_tagger')\n",
    "\n",
    "df['tokenized_sents'] = df['tokenized_sents'].apply(lambda x: pos_tag(x))"
   ]
  },
  {
   "cell_type": "code",
   "execution_count": 12,
   "metadata": {
    "colab": {
     "base_uri": "https://localhost:8080/"
    },
    "id": "d7zvERFQ8x4v",
    "outputId": "bc18c0d9-bbe1-412b-f516-b06ea3473f1a"
   },
   "outputs": [
    {
     "data": {
      "text/plain": [
       "0        [(I, PRP), (I, PRP), (weep, VBP), (for, IN), (...\n",
       "1        [(our, PRP$), (tears, NNS), (Thaw, NNP), (not,...\n",
       "2        [(,, ,), (sad, JJ), (Hour, NNP), (,, ,), (sele...\n",
       "3        [(obscure, JJ), (compeers, NNS), (,, ,), (And,...\n",
       "4        [(Died, NNP), (Adonais, NNP), (;, :), (till, V...\n",
       "                               ...                        \n",
       "11939    [(I, PRP), (need, VBP), (not, RB), (conjure, V...\n",
       "11940    [(The, DT), (apprehension, NN), (,, ,), (that,...\n",
       "11941    [(I, PRP), (will, MD), (not, RB), (live, VB), ...\n",
       "11942    [(After, IN), (the, DT), (departure, NN), (of,...\n",
       "11943    [(Reproach, NNP), (is, VBZ), (indeed, RB), (an...\n",
       "Name: tokenized_sents, Length: 11944, dtype: object"
      ]
     },
     "execution_count": 12,
     "metadata": {},
     "output_type": "execute_result"
    }
   ],
   "source": [
    "df['tokenized_sents']"
   ]
  },
  {
   "cell_type": "markdown",
   "metadata": {
    "id": "VSEc_f1a9vRK"
   },
   "source": [
    "**TO-LOWER-CASE**"
   ]
  },
  {
   "cell_type": "code",
   "execution_count": 13,
   "metadata": {
    "id": "7Opduytm9utQ"
   },
   "outputs": [],
   "source": [
    "def listOfLists(L):\n",
    "  newL=[]\n",
    "  for t in L:\n",
    "    newL.append(list(t))\n",
    "  return newL\n",
    "\n",
    "def toLowerCase(L):\n",
    "  for l in L:\n",
    "    l[0]=l[0].lower()\n",
    "  return L\n",
    "\n",
    "#trasformazione da lista di tuple a lista di liste\n",
    "df['tokenized_sents']=df['tokenized_sents'].apply(lambda x: listOfLists(x))\n",
    "\n",
    "#trasformazione dei token in lower-case\n",
    "df['tokenized_sents']=df['tokenized_sents'].apply(lambda x: toLowerCase(x))"
   ]
  },
  {
   "cell_type": "code",
   "execution_count": 14,
   "metadata": {
    "colab": {
     "base_uri": "https://localhost:8080/"
    },
    "id": "Kt5II08RVUtT",
    "outputId": "adaf6f5c-7095-4ec9-b5ab-e5ba761f0bef"
   },
   "outputs": [
    {
     "data": {
      "text/plain": [
       "0        [[i, PRP], [i, PRP], [weep, VBP], [for, IN], [...\n",
       "1        [[our, PRP$], [tears, NNS], [thaw, NNP], [not,...\n",
       "2        [[,, ,], [sad, JJ], [hour, NNP], [,, ,], [sele...\n",
       "3        [[obscure, JJ], [compeers, NNS], [,, ,], [and,...\n",
       "4        [[died, NNP], [adonais, NNP], [;, :], [till, V...\n",
       "                               ...                        \n",
       "11939    [[i, PRP], [need, VBP], [not, RB], [conjure, V...\n",
       "11940    [[the, DT], [apprehension, NN], [,, ,], [that,...\n",
       "11941    [[i, PRP], [will, MD], [not, RB], [live, VB], ...\n",
       "11942    [[after, IN], [the, DT], [departure, NN], [of,...\n",
       "11943    [[reproach, NNP], [is, VBZ], [indeed, RB], [an...\n",
       "Name: tokenized_sents, Length: 11944, dtype: object"
      ]
     },
     "execution_count": 14,
     "metadata": {},
     "output_type": "execute_result"
    }
   ],
   "source": [
    "df[\"tokenized_sents\"]"
   ]
  },
  {
   "cell_type": "markdown",
   "metadata": {
    "id": "RwcR1woAWPFH"
   },
   "source": [
    "**STOPWORDS-REMOVAL**"
   ]
  },
  {
   "cell_type": "code",
   "execution_count": 15,
   "metadata": {
    "colab": {
     "base_uri": "https://localhost:8080/"
    },
    "id": "jWJj2Qz6WNoy",
    "outputId": "7331e12c-1526-4cd5-ed38-f97c6d560d0e"
   },
   "outputs": [
    {
     "name": "stdout",
     "output_type": "stream",
     "text": [
      "[nltk_data] Downloading package stopwords to /root/nltk_data...\n",
      "[nltk_data]   Unzipping corpora/stopwords.zip.\n",
      "['i', 'me', 'my', 'myself', 'we', 'our', 'ours', 'ourselves', 'you', \"you're\", \"you've\", \"you'll\", \"you'd\", 'your', 'yours', 'yourself', 'yourselves', 'he', 'him', 'his', 'himself', 'she', \"she's\", 'her', 'hers', 'herself', 'it', \"it's\", 'its', 'itself', 'they', 'them', 'their', 'theirs', 'themselves', 'what', 'which', 'who', 'whom', 'this', 'that', \"that'll\", 'these', 'those', 'am', 'is', 'are', 'was', 'were', 'be', 'been', 'being', 'have', 'has', 'had', 'having', 'do', 'does', 'did', 'doing', 'a', 'an', 'the', 'and', 'but', 'if', 'or', 'because', 'as', 'until', 'while', 'of', 'at', 'by', 'for', 'with', 'about', 'against', 'between', 'into', 'through', 'during', 'before', 'after', 'above', 'below', 'to', 'from', 'up', 'down', 'in', 'out', 'on', 'off', 'over', 'under', 'again', 'further', 'then', 'once', 'here', 'there', 'when', 'where', 'why', 'how', 'all', 'any', 'both', 'each', 'few', 'more', 'most', 'other', 'some', 'such', 'no', 'nor', 'not', 'only', 'own', 'same', 'so', 'than', 'too', 'very', 's', 't', 'can', 'will', 'just', 'don', \"don't\", 'should', \"should've\", 'now', 'd', 'll', 'm', 'o', 're', 've', 'y', 'ain', 'aren', \"aren't\", 'couldn', \"couldn't\", 'didn', \"didn't\", 'doesn', \"doesn't\", 'hadn', \"hadn't\", 'hasn', \"hasn't\", 'haven', \"haven't\", 'isn', \"isn't\", 'ma', 'mightn', \"mightn't\", 'mustn', \"mustn't\", 'needn', \"needn't\", 'shan', \"shan't\", 'shouldn', \"shouldn't\", 'wasn', \"wasn't\", 'weren', \"weren't\", 'won', \"won't\", 'wouldn', \"wouldn't\", '!', '\"', '#', '$', '%', '&', \"'\", '(', ')', '*', '+', ',', '-', '.', '/', ':', ';', '<', '=', '>', '?', '@', '[', '\\\\', ']', '^', '_', '`', '{', '|', '}', '~', ' ', '']\n"
     ]
    }
   ],
   "source": [
    "nltk.download('stopwords')\n",
    "\n",
    "stop_list = stopwords.words('english')+list(string.punctuation)+[\" \"]+[\"\"] #noise removal:insieme alle stopwords viene eliminata la punteggiatura\n",
    "\n",
    "print(stop_list)"
   ]
  },
  {
   "cell_type": "code",
   "execution_count": 16,
   "metadata": {
    "id": "FqZ1vC_SPmKQ"
   },
   "outputs": [],
   "source": [
    "#RIMOZIONE DELLE STOPWORDS (comprende rimozione dei rumori)\n",
    "#rimuove troppe parole!!!\n",
    "#rimuove gli elementi della sottolista b dagli elementi della sottolista a\n",
    "def removeSublist(a,b):\n",
    "  for el in b:\n",
    "    a.remove(el)\n",
    "\n",
    "#df['tokenized_sents'].apply(lambda x: removeSublist(x,[couple for couple in x if not(set(couple[0]).isdisjoint(stop_list))]))"
   ]
  },
  {
   "cell_type": "markdown",
   "metadata": {
    "id": "zM2IUUx3dTV3"
   },
   "source": [
    "**NOISE-REMOVAL**"
   ]
  },
  {
   "cell_type": "code",
   "execution_count": 17,
   "metadata": {
    "colab": {
     "base_uri": "https://localhost:8080/"
    },
    "id": "mFB5IuSHKu95",
    "outputId": "d94fdd31-d458-4ddc-bb2e-abab4e60850c"
   },
   "outputs": [
    {
     "data": {
      "text/plain": [
       "0        None\n",
       "1        None\n",
       "2        None\n",
       "3        None\n",
       "4        None\n",
       "         ... \n",
       "11939    None\n",
       "11940    None\n",
       "11941    None\n",
       "11942    None\n",
       "11943    None\n",
       "Name: tokenized_sents, Length: 11944, dtype: object"
      ]
     },
     "execution_count": 17,
     "metadata": {},
     "output_type": "execute_result"
    }
   ],
   "source": [
    "#solo rimozione di rumori(punteggiatura e spazi vuoti)\n",
    "\n",
    "def removeSublist(a,b):\n",
    "  for el in b:\n",
    "    a.remove(el)\n",
    "\n",
    "noises_list=list(string.punctuation)+[\" \"]+[\"\"]\n",
    "\n",
    "df['tokenized_sents'].apply(lambda x: removeSublist(x,[couple for couple in x if not(set(couple[0]).isdisjoint(noises_list))]))"
   ]
  },
  {
   "cell_type": "code",
   "execution_count": 18,
   "metadata": {
    "colab": {
     "base_uri": "https://localhost:8080/"
    },
    "id": "zssr59m8YSZ5",
    "outputId": "e117a88b-4413-469d-82cf-39315c0a2524"
   },
   "outputs": [
    {
     "data": {
      "text/plain": [
       "0        [[i, PRP], [i, PRP], [weep, VBP], [for, IN], [...\n",
       "1        [[our, PRP$], [tears, NNS], [thaw, NNP], [not,...\n",
       "2        [[sad, JJ], [hour, NNP], [selected, VBN], [fro...\n",
       "3        [[obscure, JJ], [compeers, NNS], [and, CC], [t...\n",
       "4        [[died, NNP], [adonais, NNP], [till, VB], [the...\n",
       "                               ...                        \n",
       "11939    [[i, PRP], [need, VBP], [not, RB], [conjure, V...\n",
       "11940    [[the, DT], [apprehension, NN], [that, IN], [r...\n",
       "11941    [[i, PRP], [will, MD], [not, RB], [live, VB], ...\n",
       "11942    [[after, IN], [the, DT], [departure, NN], [of,...\n",
       "11943    [[reproach, NNP], [is, VBZ], [indeed, RB], [an...\n",
       "Name: tokenized_sents, Length: 11944, dtype: object"
      ]
     },
     "execution_count": 18,
     "metadata": {},
     "output_type": "execute_result"
    }
   ],
   "source": [
    "df[\"tokenized_sents\"]"
   ]
  },
  {
   "cell_type": "markdown",
   "metadata": {
    "id": "QaGZjTHNd5-P"
   },
   "source": [
    "**LEMMATIZATION**"
   ]
  },
  {
   "cell_type": "code",
   "execution_count": 19,
   "metadata": {
    "id": "Lz2jito8vkrn"
   },
   "outputs": [],
   "source": [
    "#Lemmatizzazione in base al Pos-Tag\n",
    "#Attenzione funziona solo con #codice per POS-TAG\n",
    "\n",
    "from nltk.corpus import wordnet\n",
    "from nltk.stem import WordNetLemmatizer\n",
    "from nltk import pos_tag\n",
    "from nltk.tokenize import word_tokenize\n",
    "\n",
    "def get_wordnet_pos(treebank_tag):\n",
    "\n",
    "    if treebank_tag.startswith('J'):\n",
    "        return wordnet.ADJ\n",
    "    elif treebank_tag.startswith('V'):\n",
    "        return wordnet.VERB\n",
    "    elif treebank_tag.startswith('N'):\n",
    "        return wordnet.NOUN\n",
    "    elif treebank_tag.startswith('R'):\n",
    "        return wordnet.ADV\n",
    "    else:\n",
    "        return 0"
   ]
  },
  {
   "cell_type": "code",
   "execution_count": 91,
   "metadata": {
    "colab": {
     "base_uri": "https://localhost:8080/",
     "height": 36
    },
    "id": "6aU03zeaxdUJ",
    "outputId": "4a3fbeb9-e47d-4e5c-8fde-3b2dd6461067"
   },
   "outputs": [
    {
     "data": {
      "application/vnd.google.colaboratory.intrinsic+json": {
       "type": "string"
      },
      "text/plain": [
       "'go'"
      ]
     },
     "execution_count": 91,
     "metadata": {},
     "output_type": "execute_result"
    }
   ],
   "source": [
    "lemmatizer.lemmatize(\"going\",pos=get_wordnet_pos(\"VBZ\"))"
   ]
  },
  {
   "cell_type": "code",
   "execution_count": 22,
   "metadata": {
    "id": "RR6BMrDvd9Oj"
   },
   "outputs": [],
   "source": [
    "#Lemmatizzazione in base al Pos-Tag\n",
    "#Attenzione funziona solo con #codice per POS-TAG\n",
    "\n",
    "from nltk.corpus import wordnet\n",
    "from nltk.stem import WordNetLemmatizer\n",
    "from nltk import pos_tag\n",
    "from nltk.tokenize import word_tokenize\n",
    "\n",
    "def get_wordnet_pos(treebank_tag):\n",
    "\n",
    "    if treebank_tag.startswith('J'):\n",
    "        return wordnet.ADJ\n",
    "    elif treebank_tag.startswith('V'):\n",
    "        return wordnet.VERB\n",
    "    elif treebank_tag.startswith('N'):\n",
    "        return wordnet.NOUN\n",
    "    elif treebank_tag.startswith('R'):\n",
    "        return wordnet.ADV\n",
    "    else:\n",
    "        return 0\n",
    "\n",
    "lemmatizer = WordNetLemmatizer()\n",
    "\n",
    "def lemmatizeToken(L):\n",
    "  for i in range(len(L)):\n",
    "    if(get_wordnet_pos(L[i][1])!=0):\n",
    "      L[i][0]=lemmatizer.lemmatize(L[i][0],pos=get_wordnet_pos(L[i][1]))\n",
    "  return L\n",
    "\n",
    "df[\"tokenized_sents\"]=df['tokenized_sents'].apply(lambda x: lemmatizeToken(x))"
   ]
  },
  {
   "cell_type": "code",
   "execution_count": 23,
   "metadata": {
    "colab": {
     "base_uri": "https://localhost:8080/"
    },
    "id": "o_FFLgbEsmUB",
    "outputId": "37012210-f551-4dec-c666-d4e7ee5c8045"
   },
   "outputs": [
    {
     "data": {
      "text/plain": [
       "0        [[i, PRP], [i, PRP], [weep, VBP], [for, IN], [...\n",
       "1        [[our, PRP$], [tear, NNS], [thaw, NNP], [not, ...\n",
       "2        [[sad, JJ], [hour, NNP], [select, VBN], [from,...\n",
       "3        [[obscure, JJ], [compeer, NNS], [and, CC], [te...\n",
       "4        [[died, NNP], [adonais, NNP], [till, VB], [the...\n",
       "                               ...                        \n",
       "11939    [[i, PRP], [need, VBP], [not, RB], [conjure, V...\n",
       "11940    [[the, DT], [apprehension, NN], [that, IN], [r...\n",
       "11941    [[i, PRP], [will, MD], [not, RB], [live, VB], ...\n",
       "11942    [[after, IN], [the, DT], [departure, NN], [of,...\n",
       "11943    [[reproach, NNP], [be, VBZ], [indeed, RB], [an...\n",
       "Name: tokenized_sents, Length: 11944, dtype: object"
      ]
     },
     "execution_count": 23,
     "metadata": {},
     "output_type": "execute_result"
    }
   ],
   "source": [
    "df[\"tokenized_sents\"]"
   ]
  },
  {
   "cell_type": "markdown",
   "metadata": {
    "id": "1spi9dj_duy4"
   },
   "source": [
    "CONCATENAZIONE DELLE COPPIE TOKEN-TAG OPPURE TOKEN-ENTITY"
   ]
  },
  {
   "cell_type": "code",
   "execution_count": 24,
   "metadata": {
    "id": "S_BbodVWEEfl"
   },
   "outputs": [],
   "source": [
    "\n",
    "df[\"tokenized_sents\"]=df[\"tokenized_sents\"].apply(lambda x: ' '.join([el[0]+el[1] for el in x]))"
   ]
  },
  {
   "cell_type": "code",
   "execution_count": 25,
   "metadata": {
    "id": "O5A26nOYGeJ3"
   },
   "outputs": [],
   "source": [
    "df.index=range(len(df))"
   ]
  },
  {
   "cell_type": "code",
   "execution_count": 26,
   "metadata": {
    "colab": {
     "base_uri": "https://localhost:8080/",
     "height": 36
    },
    "id": "Q9skfLNSIMOX",
    "outputId": "329a87d4-43bd-40d4-ade7-4b2753eabe55"
   },
   "outputs": [
    {
     "data": {
      "application/vnd.google.colaboratory.intrinsic+json": {
       "type": "string"
      },
      "text/plain": [
       "'everRB toTO sageVB orCC poetVB theseDT responseNNS giveVBN thereforeRB theDT nameNNS ofIN demonNNP'"
      ]
     },
     "execution_count": 26,
     "metadata": {},
     "output_type": "execute_result"
    }
   ],
   "source": [
    "df.loc[970,\"tokenized_sents\"]"
   ]
  },
  {
   "cell_type": "markdown",
   "metadata": {
    "id": "zATjF353t2JA"
   },
   "source": [
    "# **VETTORIZZAZIONE CON TF-IDF**\n",
    "\n",
    "Il TF-IDF è un algoritmo di vettorizzazione che converte in un formato numerico il nostro corpus facendo emergere termini specifici, pesando diversamente i termini molto rari o molto comuni in modo da assegnare loro un punteggio basso.\n",
    "TF sta per term frequency, mentre IDF sta per inverse document frequency. \n",
    "Il valore TF-IDF legato ad una parola(o token) aumenta proporzionalmente al numero di volte che questa appare nel documento ed è compensato dal numero di documenti nel corpus che la contengono.Se una parola è contenuta in molti documenti allora è probabile che quella non sia una parola altamente specifica per il documento.\n",
    "Nell'algorimo TF-IDF così come in BOW non viene codificato l'ordine dei token all'interno di un testo e ciò causa un ulteriore perdita di informazione oltre a quella generata dal preprocessing.\n",
    "Mentre BOW si limita a codificare le parole contenute in un testo preprocessato TFIDF codifica l'informazione che descrive l'importanza di una parola all'interno di un testo che fa parte di un insieme di documenti su cui il modello verrà addestrato."
   ]
  },
  {
   "cell_type": "code",
   "execution_count": 27,
   "metadata": {
    "id": "YHHuFcYjE3Zr"
   },
   "outputs": [],
   "source": [
    "# inizializziamo il vettorizzatore\n",
    "vectorizer = TfidfVectorizer(sublinear_tf=True, min_df=5, max_df=0.95)\n",
    "# fit_transform applica il TF-IDF ai testi puliti - salviamo la matrice di vettori in X\n",
    "data_vectorized = vectorizer.fit_transform(df['tokenized_sents'])"
   ]
  },
  {
   "cell_type": "code",
   "execution_count": 28,
   "metadata": {
    "colab": {
     "base_uri": "https://localhost:8080/"
    },
    "id": "A_pG6K7oG5kG",
    "outputId": "7d7e980d-b5b0-422d-ec78-81ff8d45adcc"
   },
   "outputs": [
    {
     "data": {
      "text/plain": [
       "5222"
      ]
     },
     "execution_count": 28,
     "metadata": {},
     "output_type": "execute_result"
    }
   ],
   "source": [
    "len(vectorizer.get_feature_names_out())"
   ]
  },
  {
   "cell_type": "code",
   "execution_count": 29,
   "metadata": {
    "colab": {
     "base_uri": "https://localhost:8080/"
    },
    "id": "nQZbtCNkuB6c",
    "outputId": "c3b7daf3-6f17-4c14-b076-bae823e519a8"
   },
   "outputs": [
    {
     "data": {
      "text/plain": [
       "{'iprp': 2383,\n",
       " 'weepvbp': 5029,\n",
       " 'forin': 1795,\n",
       " 'bevbz': 460,\n",
       " 'deadjj': 1042,\n",
       " 'ohuh': 3141,\n",
       " 'weepjj': 5024,\n",
       " 'adonaisnnp': 63,\n",
       " 'thoughin': 4613,\n",
       " 'ourprp': 3195,\n",
       " 'tearnns': 4520,\n",
       " 'notrb': 3073,\n",
       " 'thedt': 4564,\n",
       " 'frostnn': 1848,\n",
       " 'whichwdt': 5060,\n",
       " 'sorb': 4220,\n",
       " 'dearjj': 1047,\n",
       " 'adt': 69,\n",
       " 'headnn': 2095,\n",
       " 'andcc': 166,\n",
       " 'thouvb': 4626,\n",
       " 'sadjj': 3857,\n",
       " 'fromin': 1844,\n",
       " 'alldt': 125,\n",
       " 'yearnns': 5195,\n",
       " 'toto': 4692,\n",
       " 'mournvb': 2940,\n",
       " 'lossnn': 2665,\n",
       " 'thynn': 4651,\n",
       " 'obscurejj': 3094,\n",
       " 'teachvb': 4517,\n",
       " 'themprp': 4574,\n",
       " 'thinevb': 4593,\n",
       " 'ownjj': 3215,\n",
       " 'sorrownn': 4221,\n",
       " 'sayvbp': 3892,\n",
       " 'within': 5131,\n",
       " 'meprp': 2809,\n",
       " 'tillvb': 4662,\n",
       " 'darevbz': 1027,\n",
       " 'pastnnp': 3275,\n",
       " 'hisprp': 2165,\n",
       " 'fatenn': 1631,\n",
       " 'famenn': 1603,\n",
       " 'shallmd': 4021,\n",
       " 'bevb': 455,\n",
       " 'andt': 168,\n",
       " 'echonn': 1370,\n",
       " 'lightjj': 2578,\n",
       " 'untojj': 4822,\n",
       " 'eternitynn': 1476,\n",
       " 'iinnp': 2251,\n",
       " 'wherennp': 5055,\n",
       " 'wertnn': 5041,\n",
       " 'thounn': 4619,\n",
       " 'mightynn': 2829,\n",
       " 'mothernnp': 2925,\n",
       " 'whenwrb': 5053,\n",
       " 'heprp': 2132,\n",
       " 'layvbd': 2510,\n",
       " 'thyjj': 4650,\n",
       " 'laynn': 2508,\n",
       " 'byin': 611,\n",
       " 'shaftnn': 4014,\n",
       " 'flyvbz': 1752,\n",
       " 'inin': 2328,\n",
       " 'darknessnn': 1029,\n",
       " 'wherewrb': 5057,\n",
       " 'bevbd': 456,\n",
       " 'uraniannp': 4836,\n",
       " 'dievbd': 1175,\n",
       " 'eyenns': 1570,\n",
       " 'echonns': 1372,\n",
       " 'herprp': 2140,\n",
       " 'paradisennp': 3244,\n",
       " 'sheprp': 4040,\n",
       " 'whilein': 5061,\n",
       " 'onecd': 3152,\n",
       " 'softjj': 4191,\n",
       " 'allpdt': 130,\n",
       " 'likein': 2587,\n",
       " 'flowernns': 1740,\n",
       " 'thatwdt': 4563,\n",
       " 'beneathnn': 439,\n",
       " 'havevbd': 2090,\n",
       " 'adornvbn': 66,\n",
       " 'hidevb': 2149,\n",
       " 'comevbg': 822,\n",
       " 'bulknn': 594,\n",
       " 'ofin': 3137,\n",
       " 'deathnnp': 1052,\n",
       " 'iiinnp': 2250,\n",
       " 'ohnnp': 3140,\n",
       " 'weepnn': 5025,\n",
       " 'melancholynn': 2794,\n",
       " 'yetcc': 5204,\n",
       " 'withinin': 5132,\n",
       " 'theirprp': 4571,\n",
       " 'burningnn': 595,\n",
       " 'bednn': 407,\n",
       " 'thynnp': 4652,\n",
       " 'fierynn': 1681,\n",
       " 'letvb': 2560,\n",
       " 'loudjj': 2667,\n",
       " 'heartnn': 2103,\n",
       " 'mutenn': 2966,\n",
       " 'sleepnn': 4152,\n",
       " 'govbn': 1972,\n",
       " 'thingnns': 4595,\n",
       " 'wisenn': 5121,\n",
       " 'fairjj': 1590,\n",
       " 'dreamnn': 1297,\n",
       " 'thatin': 4562,\n",
       " 'willnnp': 5099,\n",
       " 'yetrb': 5205,\n",
       " 'restorevb': 3754,\n",
       " 'himprp': 2162,\n",
       " 'vitaljj': 4932,\n",
       " 'airnn': 113,\n",
       " 'onin': 3156,\n",
       " 'voicenn': 4937,\n",
       " 'atin': 300,\n",
       " 'despairnn': 1141,\n",
       " 'musicaljj': 2961,\n",
       " 'mournernns': 2937,\n",
       " 'againrb': 94,\n",
       " 'whonnp': 5082,\n",
       " 'immortaljj': 2269,\n",
       " 'strainnn': 4353,\n",
       " 'oldjj': 3145,\n",
       " 'countrynn': 942,\n",
       " 'pridenn': 3480,\n",
       " 'priestnn': 3481,\n",
       " 'slavenn': 4148,\n",
       " 'mocknn': 2877,\n",
       " 'manyjj': 2737,\n",
       " 'ritenn': 3798,\n",
       " 'lustnn': 2687,\n",
       " 'bloodnn': 489,\n",
       " 'govbd': 1970,\n",
       " 'intonnp': 2375,\n",
       " 'gulfnn': 2037,\n",
       " 'deathnn': 1051,\n",
       " 'butcc': 608,\n",
       " 'clearjj': 769,\n",
       " 'earthnn': 1359,\n",
       " 'thirdjj': 4604,\n",
       " 'amongin': 155,\n",
       " 'sonnns': 4214,\n",
       " 'lightnn': 2583,\n",
       " 'vnnp': 4935,\n",
       " 'thatdt': 4561,\n",
       " 'brightjj': 564,\n",
       " 'stationnn': 4320,\n",
       " 'climbvb': 775,\n",
       " 'theyprp': 4585,\n",
       " 'happinessnn': 2062,\n",
       " 'whowp': 5085,\n",
       " 'knowvbd': 2459,\n",
       " 'whosennp': 5083,\n",
       " 'burnvbp': 600,\n",
       " 'throughin': 4639,\n",
       " 'nightnn': 3036,\n",
       " 'timenn': 4664,\n",
       " 'othersnns': 3190,\n",
       " 'morerbr': 2910,\n",
       " 'sublimejj': 4401,\n",
       " 'enviousjj': 1456,\n",
       " 'wrathnn': 5176,\n",
       " 'mannn': 2733,\n",
       " 'orcc': 3179,\n",
       " 'godnn': 1956,\n",
       " 'sunknn': 4436,\n",
       " 'primenn': 3484,\n",
       " 'somedt': 4203,\n",
       " 'livejj': 2614,\n",
       " 'roadnn': 3805,\n",
       " 'whichnnp': 5059,\n",
       " 'leadvbz': 2520,\n",
       " 'toilnn': 4673,\n",
       " 'hatenn': 2076,\n",
       " 'serenejj': 3985,\n",
       " 'abodenn': 4,\n",
       " 'nowrb': 3079,\n",
       " 'dearjjs': 1048,\n",
       " 'havevbz': 2094,\n",
       " 'growvbd': 2022,\n",
       " 'palenn': 3231,\n",
       " 'flowernn': 1739,\n",
       " 'maidenjj': 2711,\n",
       " 'feevbn': 1661,\n",
       " 'insteadrb': 2349,\n",
       " 'dewnn': 1164,\n",
       " 'mostjjs': 2921,\n",
       " 'extremejj': 1564,\n",
       " 'hopenn': 2188,\n",
       " 'lastjj': 2493,\n",
       " 'bloomnn': 491,\n",
       " 'whosewp': 5084,\n",
       " 'beforein': 409,\n",
       " 'dievbn': 1177,\n",
       " 'promisenn': 3511,\n",
       " 'fruitnn': 1850,\n",
       " 'wastenn': 4985,\n",
       " 'brokenjj': 576,\n",
       " 'lilyrb': 2592,\n",
       " 'stormnn': 4348,\n",
       " 'highjj': 2152,\n",
       " 'capitalnn': 635,\n",
       " 'keepnnp': 2424,\n",
       " 'palejj': 3230,\n",
       " 'courtnn': 949,\n",
       " 'beautynn': 396,\n",
       " 'decaynn': 1054,\n",
       " 'comevbd': 821,\n",
       " 'buyvbd': 609,\n",
       " 'pricenn': 3479,\n",
       " 'purejjs': 3544,\n",
       " 'breathnn': 557,\n",
       " 'gravenn': 1990,\n",
       " 'awayrb': 347,\n",
       " 'vaultnn': 4875,\n",
       " 'bluejj': 495,\n",
       " 'italianjj': 2391,\n",
       " 'daynn': 1039,\n",
       " 'fitvbg': 1717,\n",
       " 'stillrb': 4339,\n",
       " 'lievbz': 2570,\n",
       " 'asin': 273,\n",
       " 'ifin': 2247,\n",
       " 'surelyrb': 4456,\n",
       " 'takevbz': 4503,\n",
       " 'deepjj': 1070,\n",
       " 'restnn': 3753,\n",
       " 'willmd': 5098,\n",
       " 'awakevb': 342,\n",
       " 'nodt': 3046,\n",
       " 'neverrb': 3026,\n",
       " 'morejjr': 2908,\n",
       " 'twilightjj': 4767,\n",
       " 'chambernn': 703,\n",
       " 'shadownn': 4009,\n",
       " 'whitejj': 5073,\n",
       " 'doornn': 1256,\n",
       " 'invisiblejj': 2380,\n",
       " 'tracenn': 4706,\n",
       " 'waynn': 5007,\n",
       " 'dimjj': 1188,\n",
       " 'eternaljj': 1475,\n",
       " 'sitsnns': 4128,\n",
       " 'pitynn': 3370,\n",
       " 'awenn': 349,\n",
       " 'ragenn': 3589,\n",
       " 'norcc': 3055,\n",
       " 'sonnp': 4215,\n",
       " 'preynn': 3478,\n",
       " 'lawnn': 2505,\n",
       " 'changenn': 706,\n",
       " 'mortaljj': 2916,\n",
       " 'curtainnn': 1002,\n",
       " 'quickjj': 3574,\n",
       " 'dreamnnp': 1298,\n",
       " 'ministernnp': 2849,\n",
       " 'thoughtnn': 4615,\n",
       " 'flocknns': 1735,\n",
       " 'whomwp': 5081,\n",
       " 'nearin': 2996,\n",
       " 'livingnn': 2621,\n",
       " 'streamnns': 4362,\n",
       " 'youngjj': 5210,\n",
       " 'spiritnn': 4271,\n",
       " 'teachvbd': 4518,\n",
       " 'lovenn': 2672,\n",
       " 'itsprp': 2396,\n",
       " 'musicnn': 2962,\n",
       " 'not': 3063,\n",
       " 'jj': 2404,\n",
       " 'brainnn': 537,\n",
       " 'thererb': 4583,\n",
       " 'whencenn': 5051,\n",
       " 'springvbp': 4291,\n",
       " 'lotnn': 2666,\n",
       " 'roundin': 3827,\n",
       " 'coldjj': 805,\n",
       " 'afterin': 90,\n",
       " 'sweetnn': 4484,\n",
       " 'painnn': 3219,\n",
       " 'gathervb': 1887,\n",
       " 'strengthnn': 4367,\n",
       " 'findvb': 1694,\n",
       " 'homenn': 2183,\n",
       " 'tremblevbg': 4729,\n",
       " 'handnns': 2054,\n",
       " 'wingnns': 5113,\n",
       " 'crynns': 986,\n",
       " 'faintnn': 1589,\n",
       " 'uponin': 4828,\n",
       " 'sleepvbg': 4156,\n",
       " 'thereex': 4581,\n",
       " 'annp': 181,\n",
       " 'losevbn': 2663,\n",
       " 'ruinnn': 3839,\n",
       " 'fadevbd': 1579,\n",
       " 'cloudnn': 795,\n",
       " 'rainnn': 3592,\n",
       " 'urnnn': 4839,\n",
       " 'starrynn': 4312,\n",
       " 'limbnns': 2594,\n",
       " 'anotherdt': 183,\n",
       " 'locknns': 2629,\n",
       " 'throwvbd': 4643,\n",
       " 'wreathnn': 5177,\n",
       " 'griefnn': 2006,\n",
       " 'wouldmd': 5172,\n",
       " 'breakvb': 547,\n",
       " 'hernnp': 2137,\n",
       " 'bownn': 531,\n",
       " 'wingvbd': 5114,\n",
       " 'greatjjr': 1994,\n",
       " 'weakjj': 5009,\n",
       " 'firenn': 1704,\n",
       " 'againstin': 95,\n",
       " 'frozenjj': 1849,\n",
       " 'cheeknn': 728,\n",
       " 'splendournn': 4276,\n",
       " 'mouthnn': 2941,\n",
       " 'itprp': 2394,\n",
       " 'drawvb': 1287,\n",
       " 'givevbd': 1926,\n",
       " 'witnn': 5136,\n",
       " 'pann': 3239,\n",
       " 'intoin': 2373,\n",
       " 'pantvbg': 3240,\n",
       " 'lightningnn': 2580,\n",
       " 'dampjj': 1017,\n",
       " 'caressnn': 647,\n",
       " 'icynn': 2239,\n",
       " 'lipnns': 2604,\n",
       " 'dievbg': 1176,\n",
       " 'vapournn': 4869,\n",
       " 'coldnn': 806,\n",
       " 'eclipsenn': 1373,\n",
       " 'desirenns': 1135,\n",
       " 'hopenns': 2190,\n",
       " 'fearnns': 1643,\n",
       " 'sorrownnp': 4222,\n",
       " 'familynn': 1605,\n",
       " 'blindin': 484,\n",
       " 'leadvbn': 2519,\n",
       " 'gleamnn': 1938,\n",
       " 'smilejj': 4172,\n",
       " 'slowjj': 4164,\n",
       " 'movevbg': 2947,\n",
       " 'mightmd': 2826,\n",
       " 'seemvb': 3948,\n",
       " 'mistnn': 2870,\n",
       " 'autumnaljj': 329,\n",
       " 'streamnn': 4361,\n",
       " 'mouldvbd': 2931,\n",
       " 'thinkvbn': 4601,\n",
       " 'shapenn': 4027,\n",
       " 'huenn': 2219,\n",
       " 'odournn': 3126,\n",
       " 'sweetjj': 4482,\n",
       " 'soundnn': 4230,\n",
       " 'seekvbd': 3942,\n",
       " 'easternjj': 1364,\n",
       " 'hairnn': 2045,\n",
       " 'shouldmd': 4063,\n",
       " 'groundnn': 2013,\n",
       " 'melancholyjj': 2793,\n",
       " 'thundernn': 4647,\n",
       " 'moannn': 2875,\n",
       " 'oceannnp': 3121,\n",
       " 'unquietjj': 4817,\n",
       " 'slumbernn': 4167,\n",
       " 'wildjj': 5093,\n",
       " 'windnns': 5104,\n",
       " 'flyvbd': 1749,\n",
       " 'roundnn': 3828,\n",
       " 'dismaynn': 1222,\n",
       " 'losevbd': 2662,\n",
       " 'echonnp': 1371,\n",
       " 'amidin': 154,\n",
       " 'voicelessnn': 4936,\n",
       " 'mountainnns': 2934,\n",
       " 'remembernn': 3702,\n",
       " 'layvb': 2509,\n",
       " 'replynn': 3725,\n",
       " 'fountainnns': 1818,\n",
       " 'birdnns': 470,\n",
       " 'greenjj': 2001,\n",
       " 'spraynn': 4281,\n",
       " 'ornnp': 3188,\n",
       " 'bellnn': 431,\n",
       " 'closingnn': 790,\n",
       " 'sincein': 4108,\n",
       " 'canmd': 630,\n",
       " 'thannnp': 4559,\n",
       " 'thosedt': 4612,\n",
       " 'disdainnn': 1214,\n",
       " 'soundnns': 4231,\n",
       " 'drearjj': 1305,\n",
       " 'betweenin': 453,\n",
       " 'songnns': 4212,\n",
       " 'hearvbp': 2109,\n",
       " 'makevbd': 2722,\n",
       " 'springnn': 4288,\n",
       " 'wildnn': 5096,\n",
       " 'downrb': 1277,\n",
       " 'budnn': 586,\n",
       " 'deadvbp': 1045,\n",
       " 'leafnns': 2522,\n",
       " 'delightnn': 1092,\n",
       " 'havevb': 2089,\n",
       " 'sullenjj': 4429,\n",
       " 'yearnn': 5194,\n",
       " 'nornnp': 3057,\n",
       " 'himselfprp': 2163,\n",
       " 'bothdt': 521,\n",
       " 'thounnp': 4620,\n",
       " 'wannn': 4969,\n",
       " 'standnn': 4303,\n",
       " 'companionnns': 838,\n",
       " 'youthnn': 5217,\n",
       " 'turnvbp': 4761,\n",
       " 'tearvb': 4521,\n",
       " 'sisternn': 4125,\n",
       " 'suchjj': 4412,\n",
       " 'melodiousjj': 2795,\n",
       " 'soin': 4194,\n",
       " 'eaglenn': 1348,\n",
       " 'theenn': 4566,\n",
       " 'couldmd': 939,\n",
       " 'heavennnp': 2116,\n",
       " 'sunnn': 4438,\n",
       " 'domainnn': 1250,\n",
       " 'morningnn': 2911,\n",
       " 'dothnn': 1263,\n",
       " 'screamvbg': 3915,\n",
       " 'emptyjj': 1406,\n",
       " 'cursenn': 1000,\n",
       " 'thyvb': 4654,\n",
       " 'innocentjj': 2335,\n",
       " 'breastnn': 551,\n",
       " 'soulnn': 4226,\n",
       " 'earthlyjj': 1357,\n",
       " 'guestnn': 2029,\n",
       " 'ahnnp': 109,\n",
       " 'woenn': 5137,\n",
       " 'winternn': 5115,\n",
       " 'comevbn': 823,\n",
       " 'airnns': 114,\n",
       " 'joyousjj': 2414,\n",
       " 'tonenn': 4678,\n",
       " 'everydt': 1487,\n",
       " 'brakenn': 538,\n",
       " 'buildvb': 590,\n",
       " 'mossyjj': 2920,\n",
       " 'fieldnn': 1675,\n",
       " 'goldenjj': 1959,\n",
       " 'outin': 3199,\n",
       " 'trancenn': 4716,\n",
       " 'awakenn': 337,\n",
       " 'woodnn': 5150,\n",
       " 'hillnn': 2158,\n",
       " 'lifenn': 2572,\n",
       " 'earthnnp': 1360,\n",
       " 'everrb': 1485,\n",
       " 'dovbn': 1273,\n",
       " 'motionnn': 2927,\n",
       " 'greatjj': 1993,\n",
       " 'worldnn': 5162,\n",
       " 'firstjj': 1708,\n",
       " 'godnnp': 1957,\n",
       " 'dawnnn': 1036,\n",
       " 'lampnns': 2481,\n",
       " 'flashnn': 1724,\n",
       " 'sacredjj': 3855,\n",
       " 'thirstnn': 4605,\n",
       " 'themselvesprp': 4575,\n",
       " 'spendvb': 4266,\n",
       " 'joynn': 2413,\n",
       " 'renewvbn': 3717,\n",
       " 'corpsenn': 930,\n",
       " 'thisdt': 4608,\n",
       " 'tendernn': 4544,\n",
       " 'itselfprp': 2395,\n",
       " 'gentlenn': 1907,\n",
       " 'starnns': 4311,\n",
       " 'merrynn': 2815,\n",
       " 'wormnn': 5164,\n",
       " 'weprp': 5037,\n",
       " 'alonerb': 135,\n",
       " 'knowvbz': 2463,\n",
       " 'bennp': 442,\n",
       " 'swordnn': 4490,\n",
       " 'intensejj': 2358,\n",
       " 'atomnn': 303,\n",
       " 'momentnn': 2886,\n",
       " 'thenrb': 4577,\n",
       " 'mostrbs': 2923,\n",
       " 'reposenn': 3729,\n",
       " 'alasuh': 119,\n",
       " 'bevbn': 458,\n",
       " 'bevbp': 459,\n",
       " 'whywrb': 5086,\n",
       " 'whatwp': 5050,\n",
       " 'spectatornns': 4257,\n",
       " 'greatnnp': 1997,\n",
       " 'meanjj': 2773,\n",
       " 'massnn': 2755,\n",
       " 'mustmd': 2964,\n",
       " 'asrb': 279,\n",
       " 'longrb': 2643,\n",
       " 'skynns': 4144,\n",
       " 'fieldnns': 1676,\n",
       " 'evenvbg': 1484,\n",
       " 'morrownn': 2913,\n",
       " 'followvbp': 1766,\n",
       " 'monthnn': 2896,\n",
       " 'wakevbp': 4956,\n",
       " 'cryvbd': 989,\n",
       " 'mothernn': 2924,\n",
       " 'risevb': 3795,\n",
       " 'woundnn': 5174,\n",
       " 'fiercenn': 1680,\n",
       " 'thanin': 4558,\n",
       " 'sighnns': 4090,\n",
       " 'watchvbp': 4995,\n",
       " 'songnn': 4211,\n",
       " 'holdvbn': 2176,\n",
       " 'silencenn': 4096,\n",
       " 'arisenn': 231,\n",
       " 'sprungnn': 4292,\n",
       " 'risevbd': 3796,\n",
       " 'nightnnp': 3037,\n",
       " 'springnns': 4290,\n",
       " 'eastnnp': 1367,\n",
       " 'followvbz': 1767,\n",
       " 'daynnp': 1040,\n",
       " 'evenrb': 1481,\n",
       " 'ghostnn': 1918,\n",
       " 'hadnnp': 2042,\n",
       " 'leavevbn': 2536,\n",
       " 'fearvbp': 1648,\n",
       " 'roundvb': 3830,\n",
       " 'atmospherenn': 302,\n",
       " 'mournfuljj': 2938,\n",
       " 'placenn': 3371,\n",
       " 'secretjj': 3932,\n",
       " 'speedvbd': 4263,\n",
       " 'citynns': 759,\n",
       " 'stonenn': 4342,\n",
       " 'steelnn': 4330,\n",
       " 'humanjj': 2223,\n",
       " 'heartnns': 2104,\n",
       " 'footnns': 1775,\n",
       " 'fellvbd': 1667,\n",
       " 'tonguenns': 4681,\n",
       " 'thoughtnns': 4616,\n",
       " 'sharpjj': 4030,\n",
       " 'formnn': 1798,\n",
       " 'maynnp': 2768,\n",
       " 'presencenn': 3461,\n",
       " 'mightnnp': 2827,\n",
       " 'lifennp': 2573,\n",
       " 'latejj': 2494,\n",
       " 'leavevb': 2533,\n",
       " 'silentjj': 4097,\n",
       " 'lightningvbg': 2582,\n",
       " 'leavevbz': 2538,\n",
       " 'distressnn': 1236,\n",
       " 'meetvbd': 2791,\n",
       " 'vainnn': 4861,\n",
       " 'staynn': 4324,\n",
       " 'speaknn': 4246,\n",
       " 'oncerb': 3151,\n",
       " 'kissnn': 2445,\n",
       " 'maymd': 2767,\n",
       " 'livevb': 2615,\n",
       " 'myprp': 2970,\n",
       " 'burnvbg': 598,\n",
       " 'wordnn': 5153,\n",
       " 'elserb': 1397,\n",
       " 'survivevbp': 4464,\n",
       " 'foodnn': 1770,\n",
       " 'memorynn': 2799,\n",
       " 'keepvbd': 2426,\n",
       " 'alivejj': 124,\n",
       " 'thoujj': 4618,\n",
       " 'artnn': 260,\n",
       " 'deadnn': 1044,\n",
       " 'partnn': 3256,\n",
       " 'givevb': 1925,\n",
       " 'artrb': 263,\n",
       " 'chainnn': 700,\n",
       " 'timennp': 4665,\n",
       " 'onnp': 3160,\n",
       " 'childnn': 737,\n",
       " 'beautifuljj': 394,\n",
       " 'didstnn': 1172,\n",
       " 'leavevbp': 2537,\n",
       " 'pathnns': 3277,\n",
       " 'mennns': 2803,\n",
       " 'soonrb': 4217,\n",
       " 'mightyjj': 2828,\n",
       " 'mirrornn': 2856,\n",
       " 'scornvb': 3909,\n",
       " 'waitvbd': 4950,\n",
       " 'fulljj': 1857,\n",
       " 'fillvbn': 1690,\n",
       " 'fleevbn': 1727,\n",
       " 'deernn': 1077,\n",
       " 'onlyrb': 3158,\n",
       " 'truejj': 4743,\n",
       " 'firstrb': 1709,\n",
       " 'contagionnn': 900,\n",
       " 'howwrb': 2218,\n",
       " 'fleevbd': 1726,\n",
       " 'agenn': 98,\n",
       " 'arrownn': 254,\n",
       " 'secondjj': 3930,\n",
       " 'blownn': 492,\n",
       " 'proudjj': 3530,\n",
       " 'lievbg': 2568,\n",
       " 'lowjj': 2683,\n",
       " 'comevbz': 825,\n",
       " 'forthrb': 1807,\n",
       " 'setnns': 3996,\n",
       " 'eachdt': 1344,\n",
       " 'withoutin': 5133,\n",
       " 'awakevbp': 345,\n",
       " 'livevbg': 2617,\n",
       " 'mindnn': 2836,\n",
       " 'barenn': 366,\n",
       " 'heavennn': 2115,\n",
       " 'awfuljj': 350,\n",
       " 'thusnnp': 4648,\n",
       " 'mountainnn': 2932,\n",
       " 'theirnnp': 4570,\n",
       " 'magicjj': 2706,\n",
       " 'rentnn': 3719,\n",
       " 'overin': 3211,\n",
       " 'bentjj': 443,\n",
       " 'earlyjj': 1350,\n",
       " 'endurevbg': 1421,\n",
       " 'monumentnn': 2899,\n",
       " 'lightningnns': 2581,\n",
       " 'sendvbd': 3967,\n",
       " 'sweetjjs': 4483,\n",
       " 'wrongjj': 5189,\n",
       " 'lovennp': 2673,\n",
       " 'fallvb': 1597,\n",
       " 'tonguenn': 4680,\n",
       " 'lessjjr': 2553,\n",
       " 'notenn': 3064,\n",
       " 'frailjj': 1823,\n",
       " 'phantomnn': 3338,\n",
       " 'companionlessnn': 836,\n",
       " 'guessnn': 2026,\n",
       " 'naturennp': 2992,\n",
       " 'nakedjj': 2979,\n",
       " 'lovelinessnn': 2669,\n",
       " 'feeblejj': 1653,\n",
       " 'stepnns': 4334,\n",
       " 'wildernessnn': 5092,\n",
       " 'alongin': 136,\n",
       " 'ragvbg': 3590,\n",
       " 'houndnns': 2207,\n",
       " 'fathernn': 1632,\n",
       " 'spiritnnp': 4272,\n",
       " 'beautifulnn': 395,\n",
       " 'vb': 4876,\n",
       " 'desolationnn': 1140,\n",
       " 'powernnp': 3444,\n",
       " 'weightnn': 5030,\n",
       " 'hournn': 2208,\n",
       " 'lampnn': 2480,\n",
       " 'fallvbg': 1598,\n",
       " 'speakvbp': 4251,\n",
       " 'smilenns': 4174,\n",
       " 'burnvb': 597,\n",
       " 'bindvbn': 467,\n",
       " 'violetnns': 4915,\n",
       " 'bluenn': 496,\n",
       " 'roundnnp': 3829,\n",
       " 'rudenn': 3836,\n",
       " 'darknn': 1030,\n",
       " 'dripvbg': 1312,\n",
       " 'forestnn': 1787,\n",
       " 'noondayjj': 3052,\n",
       " 'handnn': 2053,\n",
       " 'crewnn': 970,\n",
       " 'neglectvbn': 3013,\n",
       " 'apartrb': 199,\n",
       " 'strikevbn': 4373,\n",
       " 'hunternn': 2232,\n",
       " 'wellrb': 5035,\n",
       " 'knowvb': 2458,\n",
       " 'gentlejj': 1903,\n",
       " 'bandnn': 363,\n",
       " 'accentnns': 18,\n",
       " 'unknownjj': 4809,\n",
       " 'landnn': 2484,\n",
       " 'singvbd': 4116,\n",
       " 'newjj': 3028,\n",
       " 'miennn': 2825,\n",
       " 'artvbp': 264,\n",
       " 'suddenjj': 4414,\n",
       " 'madennp': 2697,\n",
       " 'brownn': 582,\n",
       " 'darkjj': 1028,\n",
       " 'sadlyrb': 3858,\n",
       " 'mockerynn': 2876,\n",
       " 'heavyjj': 2121,\n",
       " 'departedjj': 1106,\n",
       " 'sacrificenn': 3856,\n",
       " 'ohnn': 3139,\n",
       " 'deafnn': 1046,\n",
       " 'murderernn': 2955,\n",
       " 'suchpdt': 4413,\n",
       " 'feltvbd': 1668,\n",
       " 'escapevb': 1467,\n",
       " 'magicnn': 2707,\n",
       " 'holdvbd': 2174,\n",
       " 'envynn': 1457,\n",
       " 'howlvbg': 2216,\n",
       " 'expectationnn': 1535,\n",
       " 'masternn': 2757,\n",
       " 'silvernn': 4102,\n",
       " 'fearnn': 1642,\n",
       " 'thyselfprp': 4653,\n",
       " 'seasonnn': 3926,\n",
       " 'freejj': 1831,\n",
       " 'fangnns': 1613,\n",
       " 'clingvbg': 779,\n",
       " 'theevb': 4569,\n",
       " 'burnnn': 596,\n",
       " 'houndnn': 2206,\n",
       " 'tremblejj': 4727,\n",
       " 'usprp': 4846,\n",
       " 'weepvb': 5026,\n",
       " 'farrb': 1618,\n",
       " 'thesedt': 4584,\n",
       " 'belowin': 435,\n",
       " 'canstnn': 631,\n",
       " 'sitvbg': 4133,\n",
       " 'dustnn': 1331,\n",
       " 'purenn': 3545,\n",
       " 'flowvb': 1742,\n",
       " 'backrb': 354,\n",
       " 'fountainnn': 1817,\n",
       " 'portionnn': 3424,\n",
       " 'samejj': 3871,\n",
       " 'whilstnnp': 5065,\n",
       " 'chokevbd': 744,\n",
       " 'shamenn': 4025,\n",
       " 'peacenn': 3292,\n",
       " 'dothvbz': 1264,\n",
       " 'sleepjj': 4151,\n",
       " 'hathvbd': 2081,\n",
       " 'visionnns': 4922,\n",
       " 'keepvb': 2425,\n",
       " 'phantomnns': 3339,\n",
       " 'strifenn': 4371,\n",
       " 'madjj': 2699,\n",
       " 'knifenn': 2452,\n",
       " 'corpnns': 929,\n",
       " 'charnelnn': 723,\n",
       " 'wormnns': 5165,\n",
       " 'touchvb': 4695,\n",
       " 'grownjj': 2018,\n",
       " 'graynn': 1992,\n",
       " 'selfnn': 3965,\n",
       " 'ashnns': 270,\n",
       " 'loadnn': 2624,\n",
       " 'livevbz': 2620,\n",
       " 'cavernnns': 679,\n",
       " 'yenn': 5198,\n",
       " 'forestnns': 1788,\n",
       " 'ceasenn': 682,\n",
       " 'veilnn': 4881,\n",
       " 'hadstnn': 2043,\n",
       " 'smilenn': 4173,\n",
       " 'makevbn': 2724,\n",
       " 'naturenn': 2991,\n",
       " 'hearvbn': 2108,\n",
       " 'birdnn': 469,\n",
       " 'knowvbn': 2461,\n",
       " 'spreadvbg': 4285,\n",
       " 'movevb': 2945,\n",
       " 'withdrawvbn': 5130,\n",
       " 'bevbg': 457,\n",
       " 'lovelyrb': 2671,\n",
       " 'dulljj': 1322,\n",
       " 'densenn': 1103,\n",
       " 'formnns': 1799,\n",
       " 'wearvbp': 5015,\n",
       " 'thnn': 4609,\n",
       " 'unwillingjj': 4826,\n",
       " 'flightnn': 1729,\n",
       " 'likenessnn': 2590,\n",
       " 'bearvb': 383,\n",
       " 'treenns': 4726,\n",
       " 'beastnns': 389,\n",
       " 'extinguishjj': 1559,\n",
       " 'appointvbn': 215,\n",
       " 'heightnn': 2124,\n",
       " 'loftynn': 2632,\n",
       " 'liftvbz': 2577,\n",
       " 'abovein': 7,\n",
       " 'lairnn': 2475,\n",
       " 'shallnnp': 4023,\n",
       " 'doomnn': 1255,\n",
       " 'movenn': 2944,\n",
       " 'buildvbn': 592,\n",
       " 'beyondin': 461,\n",
       " 'solemnnn': 4198,\n",
       " 'agonynn': 103,\n",
       " 'fadevbn': 1580,\n",
       " 'spotnn': 4279,\n",
       " 'oblivionnn': 3093,\n",
       " 'thingnn': 4594,\n",
       " 'namenns': 2982,\n",
       " 'dievb': 1174,\n",
       " 'sparknn': 4243,\n",
       " 'immortalitynn': 2268,\n",
       " 'becomevbd': 402,\n",
       " 'theejj': 4565,\n",
       " 'blindnn': 486,\n",
       " 'majestynn': 2717,\n",
       " 'thronenn': 4636,\n",
       " 'throngnn': 4637,\n",
       " 'forthnn': 1806,\n",
       " 'wretchnn': 5181,\n",
       " 'centrenn': 692,\n",
       " 'worldnns': 5163,\n",
       " 'untilin': 4819,\n",
       " 'spaciousjj': 4241,\n",
       " 'shrinkvb': 4075,\n",
       " 'pointnn': 3410,\n",
       " 'makevb': 2721,\n",
       " 'brinknn': 574,\n",
       " 'govb': 1969,\n",
       " 'romennp': 3816,\n",
       " 'sepulchrenn': 3984,\n",
       " 'liennp': 2565,\n",
       " 'buryvbn': 603,\n",
       " 'havevbp': 2093,\n",
       " 'workvbn': 5160,\n",
       " 'kingnns': 2441,\n",
       " 'contentionnn': 906,\n",
       " 'pastnn': 3274,\n",
       " 'passvb': 3267,\n",
       " 'gonnp': 1963,\n",
       " 'citynn': 757,\n",
       " 'risenn': 3794,\n",
       " 'weednns': 5021,\n",
       " 'bonenns': 509,\n",
       " 'leadvb': 2516,\n",
       " 'footstepnns': 1776,\n",
       " 'slopenn': 4163,\n",
       " 'accessnn': 19,\n",
       " 'infantnn': 2318,\n",
       " 'laughvbg': 2504,\n",
       " 'grassnn': 1986,\n",
       " 'spreadvbn': 4286,\n",
       " 'grayjj': 1991,\n",
       " 'wallnns': 4962,\n",
       " 'hoaryjj': 2171,\n",
       " 'pyramidnn': 3561,\n",
       " 'refugenn': 3672,\n",
       " 'dothdt': 1261,\n",
       " 'standvbp': 4307,\n",
       " 'flamenn': 1721,\n",
       " 'pitchnn': 3367,\n",
       " 'campnn': 627,\n",
       " 'losevbp': 2664,\n",
       " 'scarcenn': 3896,\n",
       " 'hererb': 2136,\n",
       " 'grafnns': 1980,\n",
       " 'toorb': 4682,\n",
       " 'chargenn': 719,\n",
       " 'setvbn': 4001,\n",
       " 'findvbp': 1698,\n",
       " 'thinennp': 4592,\n",
       " 'bitterjj': 473,\n",
       " 'windnn': 5103,\n",
       " 'seeknn': 3940,\n",
       " 'shelternn': 4038,\n",
       " 'tombnn': 4676,\n",
       " 'becomevb': 401,\n",
       " 'onennp': 3154,\n",
       " 'remainvbz': 3699,\n",
       " 'foreverrb': 1789,\n",
       " 'shinenns': 4047,\n",
       " 'shadownns': 4011,\n",
       " 'flyvbp': 1751,\n",
       " 'domenn': 1251,\n",
       " 'glassnn': 1936,\n",
       " 'radiancenn': 3587,\n",
       " 'thouvbn': 4628,\n",
       " 'wouldstnn': 5173,\n",
       " 'thouvbz': 4630,\n",
       " 'dostnn': 1259,\n",
       " 'azurenn': 351,\n",
       " 'skynn': 4143,\n",
       " 'statuenns': 4322,\n",
       " 'wordnns': 5154,\n",
       " 'glorynn': 1948,\n",
       " 'truthnn': 4746,\n",
       " 'speakvb': 4247,\n",
       " 'departvbn': 1110,\n",
       " 'shouldstnn': 4064,\n",
       " 'womannn': 5140,\n",
       " 'crushvb': 984,\n",
       " 'whispernns': 5070,\n",
       " 'callvbz': 622,\n",
       " 'nonnp': 3051,\n",
       " 'letnn': 2557,\n",
       " 'joinvb': 2409,\n",
       " 'togetherrb': 4672,\n",
       " 'universenn': 4805,\n",
       " 'beautynnp': 397,\n",
       " 'worknn': 5156,\n",
       " 'birthnn': 471,\n",
       " 'webnn': 5019,\n",
       " 'beastnn': 388,\n",
       " 'seann': 3922,\n",
       " 'dimnn': 1190,\n",
       " 'consumevbg': 898,\n",
       " 'mortalitynn': 2915,\n",
       " 'barknn': 367,\n",
       " 'drivevbn': 1315,\n",
       " 'shorenn': 4056,\n",
       " 'tremblingnn': 4730,\n",
       " 'sailnns': 3864,\n",
       " 'tempestjjs': 4536,\n",
       " 'givevbn': 1928,\n",
       " 'fearfullyrb': 1641,\n",
       " 'afarrb': 79,\n",
       " 'inmostnn': 2331,\n",
       " 'starnn': 4309,\n",
       " 'augustnnp': 324,\n",
       " 'oceannn': 3120,\n",
       " 'imbuevbn': 2264,\n",
       " 'aughtnn': 322,\n",
       " 'naturaljj': 2989,\n",
       " 'feelvb': 1657,\n",
       " 'boonnn': 512,\n",
       " 'minenn': 2840,\n",
       " 'mornnn': 2912,\n",
       " 'odorousjj': 3125,\n",
       " 'noonnn': 3053,\n",
       " 'sunsetnn': 4441,\n",
       " 'gorgeousjj': 1968,\n",
       " 'ministernns': 2850,\n",
       " 'midnightnn': 2823,\n",
       " 'autumnnn': 330,\n",
       " 'hollowjj': 2181,\n",
       " 'snownn': 4182,\n",
       " 'icenn': 2238,\n",
       " 'greynn': 2005,\n",
       " 'boughnns': 524,\n",
       " 'voluptuousjj': 4941,\n",
       " 'kissnns': 2446,\n",
       " 'lovevbd': 2678,\n",
       " 'forgivevb': 1793,\n",
       " 'belovèdnn': 434,\n",
       " 'brothernns': 580,\n",
       " 'yourprp': 5213,\n",
       " 'favournn': 1639,\n",
       " 'unfathomablejj': 4797,\n",
       " 'lovevbn': 2680,\n",
       " 'watchvbn': 4994,\n",
       " 'depthnn': 1114,\n",
       " 'deepnn': 1075,\n",
       " 'mysterynns': 2976,\n",
       " 'blackjj': 476,\n",
       " 'recordnn': 3654,\n",
       " 'winvbd': 5118,\n",
       " 'hopvbg': 2194,\n",
       " 'thinenn': 4591,\n",
       " 'lonenn': 2637,\n",
       " 'messengernn': 2817,\n",
       " 'rendervb': 3715,\n",
       " 'uprp': 4833,\n",
       " 'talenn': 4505,\n",
       " 'hournns': 2209,\n",
       " 'makevbz': 2726,\n",
       " 'weirdjj': 5032,\n",
       " 'stillnessnn': 4338,\n",
       " 'desperatejj': 1142,\n",
       " 'veryrb': 4893,\n",
       " 'mixedjj': 2873,\n",
       " 'talknn': 4508,\n",
       " 'looknns': 2648,\n",
       " 'strangejj': 4354,\n",
       " 'hastnn': 2074,\n",
       " ...}"
      ]
     },
     "execution_count": 29,
     "metadata": {},
     "output_type": "execute_result"
    }
   ],
   "source": [
    "vectorizer.vocabulary_"
   ]
  },
  {
   "cell_type": "code",
   "execution_count": 30,
   "metadata": {
    "id": "oV4TTGXwuF6d"
   },
   "outputs": [],
   "source": [
    "X=data_vectorized.toarray()"
   ]
  },
  {
   "cell_type": "code",
   "execution_count": 31,
   "metadata": {
    "colab": {
     "base_uri": "https://localhost:8080/"
    },
    "id": "Qzm7y66AG-jp",
    "outputId": "fb2f3a63-c1fb-4ad7-bd69-1b7e5a0d11fc"
   },
   "outputs": [
    {
     "data": {
      "text/plain": [
       "array([[0.00000000e+000],\n",
       "       [6.90314434e-310],\n",
       "       [6.90314434e-310],\n",
       "       ...,\n",
       "       [6.90313833e-310],\n",
       "       [6.90313833e-310],\n",
       "       [6.90313833e-310]])"
      ]
     },
     "execution_count": 31,
     "metadata": {},
     "output_type": "execute_result"
    }
   ],
   "source": [
    "Y=np.empty((len(df),1))\n",
    "Y"
   ]
  },
  {
   "cell_type": "code",
   "execution_count": 32,
   "metadata": {
    "colab": {
     "base_uri": "https://localhost:8080/"
    },
    "id": "RayIHv0dG-g2",
    "outputId": "0071d788-828c-4103-a337-97cf9608eccc"
   },
   "outputs": [
    {
     "data": {
      "text/plain": [
       "array([[0],\n",
       "       [0],\n",
       "       [0],\n",
       "       ...,\n",
       "       [4],\n",
       "       [4],\n",
       "       [4]])"
      ]
     },
     "execution_count": 32,
     "metadata": {},
     "output_type": "execute_result"
    }
   ],
   "source": [
    "#trasformazione delle classi targhet da stringhe a numeri\n",
    "authors=df[\"author\"].unique() #lista/insieme degli autori\n",
    "\n",
    "targets=np.array(df[\"author\"])\n",
    "\n",
    "for i in range (len(df)):\n",
    "  Y[i]=np.where(authors == targets[i])[0][0]\n",
    "\n",
    "Y=Y.astype(\"int\")\n",
    "Y"
   ]
  },
  {
   "cell_type": "code",
   "execution_count": 33,
   "metadata": {
    "colab": {
     "base_uri": "https://localhost:8080/"
    },
    "id": "FY2c08JsHFFr",
    "outputId": "f291e97e-34f0-4174-a437-825321d1fe18"
   },
   "outputs": [
    {
     "data": {
      "text/plain": [
       "(11944, 5222)"
      ]
     },
     "execution_count": 33,
     "metadata": {},
     "output_type": "execute_result"
    }
   ],
   "source": [
    "X.shape"
   ]
  },
  {
   "cell_type": "code",
   "execution_count": 35,
   "metadata": {
    "colab": {
     "base_uri": "https://localhost:8080/"
    },
    "id": "DT8_ex-EHFC_",
    "outputId": "efc980fe-ca11-44fe-9c9b-e26396573eb8"
   },
   "outputs": [
    {
     "data": {
      "text/plain": [
       "(11944, 1)"
      ]
     },
     "execution_count": 35,
     "metadata": {},
     "output_type": "execute_result"
    }
   ],
   "source": [
    "Y.shape"
   ]
  },
  {
   "cell_type": "code",
   "execution_count": 34,
   "metadata": {
    "id": "XdgkPpGtHMVr"
   },
   "outputs": [],
   "source": [
    "from sklearn.model_selection import train_test_split\n",
    "\n",
    "X_train,X_test,Y_train,Y_test = train_test_split(X, Y, test_size=0.3)"
   ]
  },
  {
   "cell_type": "code",
   "execution_count": 61,
   "metadata": {
    "colab": {
     "base_uri": "https://localhost:8080/"
    },
    "id": "jl0jUIS_HMS_",
    "outputId": "11125352-a4cb-49b7-9596-9a75eab92cdc"
   },
   "outputs": [
    {
     "name": "stdout",
     "output_type": "stream",
     "text": [
      "(16088, 8026) (6895, 8026)\n",
      "(16088, 1) (6895, 1)\n"
     ]
    }
   ],
   "source": [
    "print(X_train.shape,X_test.shape)\n",
    "print(Y_train.shape,Y_test.shape)"
   ]
  },
  {
   "cell_type": "code",
   "execution_count": 62,
   "metadata": {
    "colab": {
     "base_uri": "https://localhost:8080/"
    },
    "id": "d-wT99q3HQ2U",
    "outputId": "a747fca7-69ed-490f-a527-5a5ed7949714"
   },
   "outputs": [
    {
     "name": "stdout",
     "output_type": "stream",
     "text": [
      "Xtrain <class 'numpy.ndarray'>\n",
      "Ytrain <class 'numpy.ndarray'>\n",
      "Xtest <class 'numpy.ndarray'>\n",
      "Ytest <class 'numpy.ndarray'>\n",
      "Xtrain float64\n",
      "Ytrain int64\n",
      "Xtest float64\n",
      "Ytest int64\n"
     ]
    }
   ],
   "source": [
    "print(\"Xtrain\",type(X_train))\n",
    "print(\"Ytrain\",type(Y_train))\n",
    "print(\"Xtest\",type(X_test))\n",
    "print(\"Ytest\",type(Y_test))\n",
    "print(\"Xtrain\",X_train.dtype)\n",
    "print(\"Ytrain\",Y_train.dtype)\n",
    "print(\"Xtest\",X_test.dtype)\n",
    "print(\"Ytest\",Y_test.dtype)\n"
   ]
  },
  {
   "cell_type": "markdown",
   "metadata": {
    "id": "T_3geQeGHbVM"
   },
   "source": [
    "**Trasformazione degli array numpy in tensori pytorch**"
   ]
  },
  {
   "cell_type": "code",
   "execution_count": 36,
   "metadata": {
    "id": "bCmVrw8KHQxe"
   },
   "outputs": [],
   "source": [
    "import torch\n",
    "\n",
    "X_train = torch.from_numpy(X_train).float()\n",
    "Y_train = torch.from_numpy(Y_train).float()\n",
    "\n",
    "X_test = torch.from_numpy(X_test).float()\n",
    "Y_test = torch.from_numpy(Y_test).float()"
   ]
  },
  {
   "cell_type": "code",
   "execution_count": 47,
   "metadata": {
    "colab": {
     "base_uri": "https://localhost:8080/"
    },
    "id": "lJEYPSVzHhWi",
    "outputId": "5321e9ab-97d4-49dc-dc9d-daee498b1336"
   },
   "outputs": [
    {
     "name": "stdout",
     "output_type": "stream",
     "text": [
      "torch.Size([16088, 8013])\n",
      "torch.Size([16088, 1])\n",
      "torch.Size([6895, 8013])\n",
      "torch.Size([6895, 1])\n"
     ]
    }
   ],
   "source": [
    "print(X_train.shape)\n",
    "print(Y_train.shape)\n",
    "print(X_test.shape)\n",
    "print(Y_test.shape)"
   ]
  },
  {
   "cell_type": "markdown",
   "metadata": {
    "id": "4xGLtIXUHoc7"
   },
   "source": [
    "# **Creazione della rete neurale feed-forward**"
   ]
  },
  {
   "cell_type": "code",
   "execution_count": 37,
   "metadata": {
    "colab": {
     "base_uri": "https://localhost:8080/"
    },
    "id": "1qzapsGdHt98",
    "outputId": "5ba8fdbc-b528-469e-c627-6233b68f7149"
   },
   "outputs": [
    {
     "name": "stdout",
     "output_type": "stream",
     "text": [
      "5222\n",
      "5\n"
     ]
    }
   ],
   "source": [
    "#il numero di neuroni viene fatto corrispondere al numero di colonne di un vettore rappresentante un dato\n",
    "#cioè in base al numero di termini che hanno una tfidf maggiore di 0\n",
    "\n",
    "len(X_train[0])\n",
    "\n",
    "input_layer_neurons=len(X_train[0])\n",
    "output_layer_neurons=5\n",
    "\n",
    "print(input_layer_neurons)\n",
    "print(output_layer_neurons)"
   ]
  },
  {
   "cell_type": "code",
   "execution_count": 38,
   "metadata": {
    "id": "-wYnwlkxHlOa"
   },
   "outputs": [],
   "source": [
    "import torch.nn as nn\n",
    "import torch.nn.functional as fn\n",
    "\n",
    "#creazione della classe Net\n",
    "#Net è una sottoclasse di nn.Module quindi eredita tutti i suoi metodi e attributi\n",
    "class Net(nn.Module):\n",
    "  def __init__(self): #costruttore della classe\n",
    "    super().__init__()  #viene richiamato il costruttore della classe nn.Module\n",
    "\n",
    "    #definizione dei layers(quindi degli strati della rete che avranno un numero di ingressi e un numero di uscite determinati)\n",
    "    #nn.linear applica una trasformazione lineare ai dati\n",
    "    self.fc1=nn.Linear(input_layer_neurons,124)  #Input Layer : ha 28*28 ingressi(quindi 784 neuroni) e 64 uscite possibili(cioé gli ingressi del layer successivo saranno 64)\n",
    "    self.fc2=nn.Linear(124,64)     #Hidden Layer 1: ha 64 ingressi e 64 uscite\n",
    "    #self.fc3=nn.Linear(64,64)     #Hidden Layer 2: ha 64 ingressi e 64 uscite\n",
    "    self.fc4=nn.Linear(64,output_layer_neurons)     #Output Layer : ha 64 ingressi e 10 uscite perché le classi possibili sono 10\n",
    "  \n",
    "  #definizione della logica secondo cui i dati attraversano i vari layer\n",
    "  #ad ogni dato quando attraversa ogni neurone viene applicata la funzione relu\n",
    "  def forward(self,x):\n",
    "    x=fn.relu(self.fc1(x))\n",
    "    x=fn.relu(self.fc2(x))\n",
    "    #x=fn.relu(self.fc3(x))\n",
    "    x=self.fc4(x)\n",
    "\n",
    "    #return x\n",
    "    return fn.log_softmax(x,dim=1)  #ritorna la distribuzione probabilistica dell'output della rete"
   ]
  },
  {
   "cell_type": "code",
   "execution_count": 44,
   "metadata": {
    "id": "qxc-YmUGHkuO"
   },
   "outputs": [],
   "source": [
    "net=Net() #istanziazione della rete neurale"
   ]
  },
  {
   "cell_type": "markdown",
   "metadata": {
    "id": "UwQM6EmcICLF"
   },
   "source": [
    "# Caricamento dei dati(comprende suddivisione in batch)"
   ]
  },
  {
   "cell_type": "code",
   "execution_count": 45,
   "metadata": {
    "id": "Nr9vWHjHICxz"
   },
   "outputs": [],
   "source": [
    "from torch.utils.data import TensorDataset, DataLoader, RandomSampler, SequentialSampler\n",
    "\n",
    "batch_size = 10\n",
    "\n",
    "train_data = TensorDataset(X_train,Y_train)\n",
    "train_sampler = RandomSampler(train_data)\n",
    "train_dataloader = DataLoader(train_data, sampler=train_sampler, batch_size=batch_size)\n",
    "\n",
    "test_data = TensorDataset(X_test,Y_test)\n",
    "test_sampler = SequentialSampler(test_data)\n",
    "test_dataloader = DataLoader(test_data, sampler=test_sampler, batch_size=batch_size)"
   ]
  },
  {
   "cell_type": "markdown",
   "metadata": {
    "id": "LBRPt0C2H8y-"
   },
   "source": [
    "# FASE DI TRAINING"
   ]
  },
  {
   "cell_type": "code",
   "execution_count": 46,
   "metadata": {
    "colab": {
     "base_uri": "https://localhost:8080/"
    },
    "id": "7yRCFPRSH7-K",
    "outputId": "0f42479a-cc54-4392-a0ed-175e33d0dd5b"
   },
   "outputs": [
    {
     "name": "stdout",
     "output_type": "stream",
     "text": [
      "gpu available\n"
     ]
    }
   ],
   "source": [
    "import torch\n",
    "\n",
    "if torch.cuda.is_available():\n",
    "  device = torch.device(\"cuda\")\n",
    "  print(\"gpu available\")\n",
    "else:\n",
    "  device = torch.device(\"cpu\")"
   ]
  },
  {
   "cell_type": "code",
   "execution_count": 47,
   "metadata": {
    "colab": {
     "base_uri": "https://localhost:8080/"
    },
    "id": "jZYjiOFsIO1X",
    "outputId": "a80ea868-d69c-469a-9e89-ee3345bb9881"
   },
   "outputs": [
    {
     "name": "stdout",
     "output_type": "stream",
     "text": [
      "tensor(2.2242, grad_fn=<NllLossBackward0>)\n",
      "tensor(2.6206, grad_fn=<NllLossBackward0>)\n",
      "tensor(0.8268, grad_fn=<NllLossBackward0>)\n"
     ]
    }
   ],
   "source": [
    "import torch.optim as optim\n",
    "\n",
    "#implementazione della loss-function o funzione di costo\n",
    "#la loss-function calcola quanto gli output della rete neurale si discostano dai valori reali\n",
    "#il risultato di una loss-function può essere uno scalare(entropia incrociata...) oppure un vettore(one-hot array)\n",
    "\n",
    "loss_function=nn.CrossEntropyLoss();\n",
    "\n",
    "#implementazione dell'ottimizzatore \n",
    "#l'ottimizzatore si occupa di modificare i pesi dei collegamenti della rete in modo che questa restituisca un output che si avvicini il più possibile al valore corretto\n",
    "#net.parameters() restituisce un tensore che rappresenta i parametri della rete ossia tutti i pesi della rete\n",
    "#il learning rate (lr) è un valore che dice di quanto devono essere aggiustati i pesi a ogni iterazione\n",
    "#Adam è un ottimizzatore che implementa la discesa stocastica del gradiente (Stochastic Gradient Descent)\n",
    "\n",
    "optimizer=optim.Adam(net.parameters(),lr=0.001)\n",
    "\n",
    "#l'epoch è rappresenta l'intera fase in cui al modello sono stati passati tutti i dati del trainset suddivisi in batches\n",
    "#se si effettuano poche epoche il modello non si addestra bene o meglio non aggiusta i propri pesi nel modo migliore\n",
    "#se si effettuano troppe epoche il modello rischia l'overfitting (si adegua troppo al training set e perde la capacità di generalizzare)\n",
    "\n",
    "for epoch in range(3):\n",
    "  for data in train_data:\n",
    "    X, y = data #suddividiamo l'esempio in features (X) e classe di appartenenza (y)\n",
    "    #print(X)\n",
    "    #print(y)\n",
    "    net.zero_grad() #setta il gradiente a 0\n",
    "    output=net(X.view(-1,input_layer_neurons))  #ad ogni passo alla rete viene fornito come input l'ouput dell'iterazione precedente\n",
    "    #print(output)\n",
    "    loss=fn.nll_loss(output,y.long())  #calcola la loss-function sull'output della rete al passo corrente rispetto al target reale\n",
    "    loss.backward() #l'errore commesso viene propagato verso ogni collegamento dallo strato di output agli strati più interni(back-propagation)\n",
    "    optimizer.step()  #basandosi sui valori riportati dal gradiente effettua l'aggiustamento dei parametri della rete in maniera opportuna  \n",
    "  print(loss) #stampa la loss function dopo ogni epoca"
   ]
  },
  {
   "cell_type": "code",
   "execution_count": 48,
   "metadata": {
    "colab": {
     "base_uri": "https://localhost:8080/"
    },
    "id": "atp3HWRoIOxw",
    "outputId": "0284b24c-fb0f-48e3-e50a-edb1d2d66a0a"
   },
   "outputs": [
    {
     "name": "stdout",
     "output_type": "stream",
     "text": [
      "ACCURACY:  70.3 %\n"
     ]
    }
   ],
   "source": [
    "correct=0 #numero di esempi su cui la rete ha predetto in maniera corretta\n",
    "total=0 #numero di esempi su cui la rete ha effettuato una predizione\n",
    "\n",
    "with torch.no_grad(): #nella fase di test non dobbiamo aggiustare i pesi o calcolare la loss function percui non ci interessa il gradiente\n",
    "  for data in test_data:\n",
    "    X, y = data\n",
    "    output=net(X.view(-1,input_layer_neurons))\n",
    "    #print(y)\n",
    "    for idx, i in enumerate(output):\n",
    "      #print(torch.argmax(i),y[idx])\n",
    "      if(torch.argmax(i)==y[idx]):\n",
    "        correct+=1\n",
    "      total+=1\n",
    "\n",
    "print(\"ACCURACY: \",round(correct/total,3)*100,\"%\")"
   ]
  },
  {
   "cell_type": "markdown",
   "metadata": {
    "id": "Xd30By9lSDdB"
   },
   "source": [
    "10- 61.19,61.8-----62.8%\n",
    "3- 77.5"
   ]
  }
 ],
 "metadata": {
  "accelerator": "GPU",
  "colab": {
   "collapsed_sections": [],
   "name": "AUTHOR_REC_POS_TFIDF",
   "provenance": []
  },
  "kernelspec": {
   "display_name": "Python 3 (ipykernel)",
   "language": "python",
   "name": "python3"
  },
  "language_info": {
   "codemirror_mode": {
    "name": "ipython",
    "version": 3
   },
   "file_extension": ".py",
   "mimetype": "text/x-python",
   "name": "python",
   "nbconvert_exporter": "python",
   "pygments_lexer": "ipython3",
   "version": "3.8.10"
  }
 },
 "nbformat": 4,
 "nbformat_minor": 4
}
